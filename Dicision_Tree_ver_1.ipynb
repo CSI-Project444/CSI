{
  "nbformat": 4,
  "nbformat_minor": 0,
  "metadata": {
    "colab": {
      "provenance": [],
      "authorship_tag": "ABX9TyM8JvuIpvTLFZHZz7FkDMDs",
      "include_colab_link": true
    },
    "kernelspec": {
      "name": "python3",
      "display_name": "Python 3"
    },
    "language_info": {
      "name": "python"
    }
  },
  "cells": [
    {
      "cell_type": "markdown",
      "metadata": {
        "id": "view-in-github",
        "colab_type": "text"
      },
      "source": [
        "<a href=\"https://colab.research.google.com/github/CSI-Project444/CSI/blob/main/Dicision_Tree_ver_1.ipynb\" target=\"_parent\"><img src=\"https://colab.research.google.com/assets/colab-badge.svg\" alt=\"Open In Colab\"/></a>"
      ]
    },
    {
      "cell_type": "code",
      "execution_count": 1,
      "metadata": {
        "id": "BWLvCRS6AB09"
      },
      "outputs": [],
      "source": [
        "import pandas as pd\n",
        "import matplotlib.pyplot as plt"
      ]
    },
    {
      "cell_type": "code",
      "source": [
        "df=pd.read_csv('https://raw.githubusercontent.com/CSI-Project444/CSI/main/Data/Final01.csv')\n",
        "df.sample(5)"
      ],
      "metadata": {
        "colab": {
          "base_uri": "https://localhost:8080/",
          "height": 299
        },
        "id": "ioNLapdKBbkj",
        "outputId": "07b8f964-f357-4c40-87b8-3d86a5299937"
      },
      "execution_count": 2,
      "outputs": [
        {
          "output_type": "execute_result",
          "data": {
            "text/plain": [
              "      Zone      mag1       mag2       mag3       mag4       mag5      mag6  \\\n",
              "599      1  6.082763  10.295630  10.295630  10.816654  10.295630  9.433981   \n",
              "7719     4  7.211103   8.602325   9.433981   9.219544   8.602325  8.602325   \n",
              "6531     4  5.656854  10.440307  10.198039  10.440307  10.440307  9.486833   \n",
              "7837     4  4.000000   9.000000  10.049876  10.000000   9.055385  9.055385   \n",
              "292      1  3.162278   6.708204   7.211103   8.062258   8.062258  8.062258   \n",
              "\n",
              "          mag7      mag8      mag9  ...      mag43     mag44     mag45  \\\n",
              "599   9.848858  8.944272  8.944272  ...  10.049876  9.000000  9.055385   \n",
              "7719  8.602325  8.062258  8.944272  ...  10.198039  9.055385  8.246211   \n",
              "6531  9.219544  9.219544  9.055385  ...   8.246211  8.246211  8.246211   \n",
              "7837  9.055385  8.062258  9.219544  ...   9.433981  9.433981  8.944272   \n",
              "292   8.602325  7.211103  8.602325  ...   9.848858  9.848858  9.433981   \n",
              "\n",
              "         mag46     mag47     mag48     mag49     mag50     mag51     mag52  \n",
              "599   8.062258  8.062258  7.280110  7.280110  7.615773  6.708204  6.708204  \n",
              "7719  7.280110  7.280110  7.615773  7.615773  6.708204  6.708204  5.830952  \n",
              "6531  7.071068  7.071068  7.000000  7.000000  6.082763  6.082763  6.082763  \n",
              "7837  8.062258  8.544004  7.280110  7.280110  7.071068  7.071068  6.000000  \n",
              "292   8.944272  9.433981  8.602325  8.602325  7.810250  9.219544  8.602325  \n",
              "\n",
              "[5 rows x 53 columns]"
            ],
            "text/html": [
              "\n",
              "  <div id=\"df-e3268f1e-ab48-45bb-a387-4425da78cbb8\">\n",
              "    <div class=\"colab-df-container\">\n",
              "      <div>\n",
              "<style scoped>\n",
              "    .dataframe tbody tr th:only-of-type {\n",
              "        vertical-align: middle;\n",
              "    }\n",
              "\n",
              "    .dataframe tbody tr th {\n",
              "        vertical-align: top;\n",
              "    }\n",
              "\n",
              "    .dataframe thead th {\n",
              "        text-align: right;\n",
              "    }\n",
              "</style>\n",
              "<table border=\"1\" class=\"dataframe\">\n",
              "  <thead>\n",
              "    <tr style=\"text-align: right;\">\n",
              "      <th></th>\n",
              "      <th>Zone</th>\n",
              "      <th>mag1</th>\n",
              "      <th>mag2</th>\n",
              "      <th>mag3</th>\n",
              "      <th>mag4</th>\n",
              "      <th>mag5</th>\n",
              "      <th>mag6</th>\n",
              "      <th>mag7</th>\n",
              "      <th>mag8</th>\n",
              "      <th>mag9</th>\n",
              "      <th>...</th>\n",
              "      <th>mag43</th>\n",
              "      <th>mag44</th>\n",
              "      <th>mag45</th>\n",
              "      <th>mag46</th>\n",
              "      <th>mag47</th>\n",
              "      <th>mag48</th>\n",
              "      <th>mag49</th>\n",
              "      <th>mag50</th>\n",
              "      <th>mag51</th>\n",
              "      <th>mag52</th>\n",
              "    </tr>\n",
              "  </thead>\n",
              "  <tbody>\n",
              "    <tr>\n",
              "      <th>599</th>\n",
              "      <td>1</td>\n",
              "      <td>6.082763</td>\n",
              "      <td>10.295630</td>\n",
              "      <td>10.295630</td>\n",
              "      <td>10.816654</td>\n",
              "      <td>10.295630</td>\n",
              "      <td>9.433981</td>\n",
              "      <td>9.848858</td>\n",
              "      <td>8.944272</td>\n",
              "      <td>8.944272</td>\n",
              "      <td>...</td>\n",
              "      <td>10.049876</td>\n",
              "      <td>9.000000</td>\n",
              "      <td>9.055385</td>\n",
              "      <td>8.062258</td>\n",
              "      <td>8.062258</td>\n",
              "      <td>7.280110</td>\n",
              "      <td>7.280110</td>\n",
              "      <td>7.615773</td>\n",
              "      <td>6.708204</td>\n",
              "      <td>6.708204</td>\n",
              "    </tr>\n",
              "    <tr>\n",
              "      <th>7719</th>\n",
              "      <td>4</td>\n",
              "      <td>7.211103</td>\n",
              "      <td>8.602325</td>\n",
              "      <td>9.433981</td>\n",
              "      <td>9.219544</td>\n",
              "      <td>8.602325</td>\n",
              "      <td>8.602325</td>\n",
              "      <td>8.602325</td>\n",
              "      <td>8.062258</td>\n",
              "      <td>8.944272</td>\n",
              "      <td>...</td>\n",
              "      <td>10.198039</td>\n",
              "      <td>9.055385</td>\n",
              "      <td>8.246211</td>\n",
              "      <td>7.280110</td>\n",
              "      <td>7.280110</td>\n",
              "      <td>7.615773</td>\n",
              "      <td>7.615773</td>\n",
              "      <td>6.708204</td>\n",
              "      <td>6.708204</td>\n",
              "      <td>5.830952</td>\n",
              "    </tr>\n",
              "    <tr>\n",
              "      <th>6531</th>\n",
              "      <td>4</td>\n",
              "      <td>5.656854</td>\n",
              "      <td>10.440307</td>\n",
              "      <td>10.198039</td>\n",
              "      <td>10.440307</td>\n",
              "      <td>10.440307</td>\n",
              "      <td>9.486833</td>\n",
              "      <td>9.219544</td>\n",
              "      <td>9.219544</td>\n",
              "      <td>9.055385</td>\n",
              "      <td>...</td>\n",
              "      <td>8.246211</td>\n",
              "      <td>8.246211</td>\n",
              "      <td>8.246211</td>\n",
              "      <td>7.071068</td>\n",
              "      <td>7.071068</td>\n",
              "      <td>7.000000</td>\n",
              "      <td>7.000000</td>\n",
              "      <td>6.082763</td>\n",
              "      <td>6.082763</td>\n",
              "      <td>6.082763</td>\n",
              "    </tr>\n",
              "    <tr>\n",
              "      <th>7837</th>\n",
              "      <td>4</td>\n",
              "      <td>4.000000</td>\n",
              "      <td>9.000000</td>\n",
              "      <td>10.049876</td>\n",
              "      <td>10.000000</td>\n",
              "      <td>9.055385</td>\n",
              "      <td>9.055385</td>\n",
              "      <td>9.055385</td>\n",
              "      <td>8.062258</td>\n",
              "      <td>9.219544</td>\n",
              "      <td>...</td>\n",
              "      <td>9.433981</td>\n",
              "      <td>9.433981</td>\n",
              "      <td>8.944272</td>\n",
              "      <td>8.062258</td>\n",
              "      <td>8.544004</td>\n",
              "      <td>7.280110</td>\n",
              "      <td>7.280110</td>\n",
              "      <td>7.071068</td>\n",
              "      <td>7.071068</td>\n",
              "      <td>6.000000</td>\n",
              "    </tr>\n",
              "    <tr>\n",
              "      <th>292</th>\n",
              "      <td>1</td>\n",
              "      <td>3.162278</td>\n",
              "      <td>6.708204</td>\n",
              "      <td>7.211103</td>\n",
              "      <td>8.062258</td>\n",
              "      <td>8.062258</td>\n",
              "      <td>8.062258</td>\n",
              "      <td>8.602325</td>\n",
              "      <td>7.211103</td>\n",
              "      <td>8.602325</td>\n",
              "      <td>...</td>\n",
              "      <td>9.848858</td>\n",
              "      <td>9.848858</td>\n",
              "      <td>9.433981</td>\n",
              "      <td>8.944272</td>\n",
              "      <td>9.433981</td>\n",
              "      <td>8.602325</td>\n",
              "      <td>8.602325</td>\n",
              "      <td>7.810250</td>\n",
              "      <td>9.219544</td>\n",
              "      <td>8.602325</td>\n",
              "    </tr>\n",
              "  </tbody>\n",
              "</table>\n",
              "<p>5 rows × 53 columns</p>\n",
              "</div>\n",
              "      <button class=\"colab-df-convert\" onclick=\"convertToInteractive('df-e3268f1e-ab48-45bb-a387-4425da78cbb8')\"\n",
              "              title=\"Convert this dataframe to an interactive table.\"\n",
              "              style=\"display:none;\">\n",
              "        \n",
              "  <svg xmlns=\"http://www.w3.org/2000/svg\" height=\"24px\"viewBox=\"0 0 24 24\"\n",
              "       width=\"24px\">\n",
              "    <path d=\"M0 0h24v24H0V0z\" fill=\"none\"/>\n",
              "    <path d=\"M18.56 5.44l.94 2.06.94-2.06 2.06-.94-2.06-.94-.94-2.06-.94 2.06-2.06.94zm-11 1L8.5 8.5l.94-2.06 2.06-.94-2.06-.94L8.5 2.5l-.94 2.06-2.06.94zm10 10l.94 2.06.94-2.06 2.06-.94-2.06-.94-.94-2.06-.94 2.06-2.06.94z\"/><path d=\"M17.41 7.96l-1.37-1.37c-.4-.4-.92-.59-1.43-.59-.52 0-1.04.2-1.43.59L10.3 9.45l-7.72 7.72c-.78.78-.78 2.05 0 2.83L4 21.41c.39.39.9.59 1.41.59.51 0 1.02-.2 1.41-.59l7.78-7.78 2.81-2.81c.8-.78.8-2.07 0-2.86zM5.41 20L4 18.59l7.72-7.72 1.47 1.35L5.41 20z\"/>\n",
              "  </svg>\n",
              "      </button>\n",
              "      \n",
              "  <style>\n",
              "    .colab-df-container {\n",
              "      display:flex;\n",
              "      flex-wrap:wrap;\n",
              "      gap: 12px;\n",
              "    }\n",
              "\n",
              "    .colab-df-convert {\n",
              "      background-color: #E8F0FE;\n",
              "      border: none;\n",
              "      border-radius: 50%;\n",
              "      cursor: pointer;\n",
              "      display: none;\n",
              "      fill: #1967D2;\n",
              "      height: 32px;\n",
              "      padding: 0 0 0 0;\n",
              "      width: 32px;\n",
              "    }\n",
              "\n",
              "    .colab-df-convert:hover {\n",
              "      background-color: #E2EBFA;\n",
              "      box-shadow: 0px 1px 2px rgba(60, 64, 67, 0.3), 0px 1px 3px 1px rgba(60, 64, 67, 0.15);\n",
              "      fill: #174EA6;\n",
              "    }\n",
              "\n",
              "    [theme=dark] .colab-df-convert {\n",
              "      background-color: #3B4455;\n",
              "      fill: #D2E3FC;\n",
              "    }\n",
              "\n",
              "    [theme=dark] .colab-df-convert:hover {\n",
              "      background-color: #434B5C;\n",
              "      box-shadow: 0px 1px 3px 1px rgba(0, 0, 0, 0.15);\n",
              "      filter: drop-shadow(0px 1px 2px rgba(0, 0, 0, 0.3));\n",
              "      fill: #FFFFFF;\n",
              "    }\n",
              "  </style>\n",
              "\n",
              "      <script>\n",
              "        const buttonEl =\n",
              "          document.querySelector('#df-e3268f1e-ab48-45bb-a387-4425da78cbb8 button.colab-df-convert');\n",
              "        buttonEl.style.display =\n",
              "          google.colab.kernel.accessAllowed ? 'block' : 'none';\n",
              "\n",
              "        async function convertToInteractive(key) {\n",
              "          const element = document.querySelector('#df-e3268f1e-ab48-45bb-a387-4425da78cbb8');\n",
              "          const dataTable =\n",
              "            await google.colab.kernel.invokeFunction('convertToInteractive',\n",
              "                                                     [key], {});\n",
              "          if (!dataTable) return;\n",
              "\n",
              "          const docLinkHtml = 'Like what you see? Visit the ' +\n",
              "            '<a target=\"_blank\" href=https://colab.research.google.com/notebooks/data_table.ipynb>data table notebook</a>'\n",
              "            + ' to learn more about interactive tables.';\n",
              "          element.innerHTML = '';\n",
              "          dataTable['output_type'] = 'display_data';\n",
              "          await google.colab.output.renderOutput(dataTable, element);\n",
              "          const docLink = document.createElement('div');\n",
              "          docLink.innerHTML = docLinkHtml;\n",
              "          element.appendChild(docLink);\n",
              "        }\n",
              "      </script>\n",
              "    </div>\n",
              "  </div>\n",
              "  "
            ]
          },
          "metadata": {},
          "execution_count": 2
        }
      ]
    },
    {
      "cell_type": "code",
      "source": [
        "df.columns"
      ],
      "metadata": {
        "colab": {
          "base_uri": "https://localhost:8080/"
        },
        "id": "xfQMPZsWBsHA",
        "outputId": "b92f00a2-30f1-4859-e3ed-2df07a342e77"
      },
      "execution_count": 3,
      "outputs": [
        {
          "output_type": "execute_result",
          "data": {
            "text/plain": [
              "Index(['Zone', 'mag1', 'mag2', 'mag3', 'mag4', 'mag5', 'mag6', 'mag7', 'mag8',\n",
              "       'mag9', 'mag10', 'mag11', 'mag12', 'mag13', 'mag14', 'mag15', 'mag16',\n",
              "       'mag17', 'mag18', 'mag19', 'mag20', 'mag21', 'mag22', 'mag23', 'mag24',\n",
              "       'mag25', 'mag26', 'mag27', 'mag28', 'mag29', 'mag30', 'mag31', 'mag32',\n",
              "       'mag33', 'mag34', 'mag35', 'mag36', 'mag37', 'mag38', 'mag39', 'mag40',\n",
              "       'mag41', 'mag42', 'mag43', 'mag44', 'mag45', 'mag46', 'mag47', 'mag48',\n",
              "       'mag49', 'mag50', 'mag51', 'mag52'],\n",
              "      dtype='object')"
            ]
          },
          "metadata": {},
          "execution_count": 3
        }
      ]
    },
    {
      "cell_type": "code",
      "source": [
        "from sklearn.model_selection import train_test_split\n",
        "from sklearn import tree"
      ],
      "metadata": {
        "id": "LUUOWhpxB09w"
      },
      "execution_count": 4,
      "outputs": []
    },
    {
      "cell_type": "code",
      "source": [
        "feature_cols=['mag1', 'mag2', 'mag3', 'mag4', 'mag5', 'mag6', 'mag7', 'mag8',\n",
        "       'mag9', 'mag10', 'mag11', 'mag12', 'mag13', 'mag14', 'mag15', 'mag16',\n",
        "       'mag17', 'mag18', 'mag19', 'mag20', 'mag21', 'mag22', 'mag23', 'mag24',\n",
        "       'mag25', 'mag26', 'mag27', 'mag28', 'mag29', 'mag30', 'mag31', 'mag32',\n",
        "       'mag33', 'mag34', 'mag35', 'mag36', 'mag37', 'mag38', 'mag39', 'mag40',\n",
        "       'mag41', 'mag42', 'mag43', 'mag44', 'mag45', 'mag46', 'mag47', 'mag48',\n",
        "       'mag49', 'mag50', 'mag51', 'mag52']\n",
        "target_col='Zone'\n",
        "X=df[feature_cols]\n",
        "y=df[target_col]\n",
        "\n",
        "test_size=.6\n",
        "X_train, X_test, y_train, y_test = train_test_split(\n",
        "    X, y, \n",
        "    test_size=test_size, random_state=4)"
      ],
      "metadata": {
        "id": "0sWeZpl0B2NC"
      },
      "execution_count": 5,
      "outputs": []
    },
    {
      "cell_type": "code",
      "source": [
        "# default ของ sklearn จะพิจารณาการสร้างเเผนภาพต้นไม้ด้วย Gini index \n",
        "# โดยสามารถเลือกเกณฑ์การพิจารณาด้วยการกำหนดพารามิเตอร์ criterion\n",
        "model = tree.DecisionTreeClassifier() "
      ],
      "metadata": {
        "id": "I-zxFuyzCDfh"
      },
      "execution_count": 6,
      "outputs": []
    },
    {
      "cell_type": "code",
      "source": [
        "model.get_params()"
      ],
      "metadata": {
        "colab": {
          "base_uri": "https://localhost:8080/"
        },
        "id": "8MSVYZ8uCGqh",
        "outputId": "a87fe22d-aaeb-434d-c87d-1e8b51f7c925"
      },
      "execution_count": 7,
      "outputs": [
        {
          "output_type": "execute_result",
          "data": {
            "text/plain": [
              "{'ccp_alpha': 0.0,\n",
              " 'class_weight': None,\n",
              " 'criterion': 'gini',\n",
              " 'max_depth': None,\n",
              " 'max_features': None,\n",
              " 'max_leaf_nodes': None,\n",
              " 'min_impurity_decrease': 0.0,\n",
              " 'min_samples_leaf': 1,\n",
              " 'min_samples_split': 2,\n",
              " 'min_weight_fraction_leaf': 0.0,\n",
              " 'random_state': None,\n",
              " 'splitter': 'best'}"
            ]
          },
          "metadata": {},
          "execution_count": 7
        }
      ]
    },
    {
      "cell_type": "code",
      "source": [
        "params={'ccp_alpha': 0.0,\n",
        " 'class_weight': None,\n",
        " 'criterion': 'gini',\n",
        " 'max_depth': 3,\n",
        " 'max_features': None,\n",
        " 'max_leaf_nodes': None,\n",
        " 'min_impurity_decrease': 0.0,\n",
        "#  'min_impurity_split': None,\n",
        " 'min_samples_leaf': 1,\n",
        " 'min_samples_split': 2,\n",
        " 'min_weight_fraction_leaf': 0.0,\n",
        " 'random_state': None,\n",
        " 'splitter': 'best'}\n",
        "model=tree.DecisionTreeClassifier(**params)"
      ],
      "metadata": {
        "id": "9zUb_gVoCMDB"
      },
      "execution_count": 8,
      "outputs": []
    },
    {
      "cell_type": "code",
      "source": [
        "model = model.fit(X_train, y_train)"
      ],
      "metadata": {
        "id": "vN9M8-oSCdmB"
      },
      "execution_count": 9,
      "outputs": []
    },
    {
      "cell_type": "code",
      "source": [
        "model"
      ],
      "metadata": {
        "colab": {
          "base_uri": "https://localhost:8080/"
        },
        "id": "uUS6bfgMCk8t",
        "outputId": "b0446598-4c8f-4f22-a5bf-135a71a90463"
      },
      "execution_count": 10,
      "outputs": [
        {
          "output_type": "execute_result",
          "data": {
            "text/plain": [
              "DecisionTreeClassifier(max_depth=3)"
            ]
          },
          "metadata": {},
          "execution_count": 10
        }
      ]
    },
    {
      "cell_type": "code",
      "metadata": {
        "colab": {
          "base_uri": "https://localhost:8080/"
        },
        "id": "dAxSAUwAMxJq",
        "outputId": "85375b44-2d63-4209-e853-91371f6292cf"
      },
      "source": [
        "# print('column_name',X_train.columns)\n",
        "# model.feature_importances_\n",
        "fs = pd.Series(model.feature_importances_, index=X_train.columns.sort_values(ascending=True))\n",
        "fs"
      ],
      "execution_count": 11,
      "outputs": [
        {
          "output_type": "execute_result",
          "data": {
            "text/plain": [
              "mag1     0.010671\n",
              "mag10    0.302032\n",
              "mag11    0.070042\n",
              "mag12    0.000000\n",
              "mag13    0.000000\n",
              "mag14    0.000000\n",
              "mag15    0.000000\n",
              "mag16    0.000000\n",
              "mag17    0.000000\n",
              "mag18    0.000000\n",
              "mag19    0.000000\n",
              "mag2     0.000000\n",
              "mag20    0.000000\n",
              "mag21    0.000000\n",
              "mag22    0.000000\n",
              "mag23    0.000000\n",
              "mag24    0.073309\n",
              "mag25    0.000000\n",
              "mag26    0.000000\n",
              "mag27    0.000000\n",
              "mag28    0.000000\n",
              "mag29    0.000000\n",
              "mag3     0.000000\n",
              "mag30    0.000000\n",
              "mag31    0.000000\n",
              "mag32    0.000000\n",
              "mag33    0.000000\n",
              "mag34    0.000000\n",
              "mag35    0.000000\n",
              "mag36    0.000000\n",
              "mag37    0.000000\n",
              "mag38    0.000000\n",
              "mag39    0.000000\n",
              "mag4     0.000000\n",
              "mag40    0.000000\n",
              "mag41    0.000000\n",
              "mag42    0.000000\n",
              "mag43    0.000000\n",
              "mag44    0.000000\n",
              "mag45    0.000000\n",
              "mag46    0.000000\n",
              "mag47    0.000000\n",
              "mag48    0.000000\n",
              "mag49    0.000000\n",
              "mag5     0.000000\n",
              "mag50    0.000000\n",
              "mag51    0.157461\n",
              "mag52    0.000000\n",
              "mag6     0.000000\n",
              "mag7     0.386485\n",
              "mag8     0.000000\n",
              "mag9     0.000000\n",
              "dtype: float64"
            ]
          },
          "metadata": {},
          "execution_count": 11
        }
      ]
    },
    {
      "cell_type": "code",
      "source": [
        "model.score(X_train, y_train)"
      ],
      "metadata": {
        "colab": {
          "base_uri": "https://localhost:8080/"
        },
        "id": "qfIKXzsuDTcb",
        "outputId": "8e090f7e-56ad-41a5-de51-25be64927816"
      },
      "execution_count": 12,
      "outputs": [
        {
          "output_type": "execute_result",
          "data": {
            "text/plain": [
              "0.47858942065491183"
            ]
          },
          "metadata": {},
          "execution_count": 12
        }
      ]
    },
    {
      "cell_type": "code",
      "source": [
        "model.score(X_test, y_test)"
      ],
      "metadata": {
        "colab": {
          "base_uri": "https://localhost:8080/"
        },
        "id": "bFQymB_HDXYx",
        "outputId": "75d7d441-c487-49e7-e11b-f9433a8e4eee"
      },
      "execution_count": 13,
      "outputs": [
        {
          "output_type": "execute_result",
          "data": {
            "text/plain": [
              "0.460973562736047"
            ]
          },
          "metadata": {},
          "execution_count": 13
        }
      ]
    },
    {
      "cell_type": "code",
      "source": [
        "model.__dict__"
      ],
      "metadata": {
        "colab": {
          "base_uri": "https://localhost:8080/"
        },
        "id": "xFnIaqUtDg3v",
        "outputId": "443b3160-c016-4527-bc6a-a74df15f9ea8"
      },
      "execution_count": 14,
      "outputs": [
        {
          "output_type": "execute_result",
          "data": {
            "text/plain": [
              "{'criterion': 'gini',\n",
              " 'splitter': 'best',\n",
              " 'max_depth': 3,\n",
              " 'min_samples_split': 2,\n",
              " 'min_samples_leaf': 1,\n",
              " 'min_weight_fraction_leaf': 0.0,\n",
              " 'max_features': None,\n",
              " 'max_leaf_nodes': None,\n",
              " 'random_state': None,\n",
              " 'min_impurity_decrease': 0.0,\n",
              " 'class_weight': None,\n",
              " 'ccp_alpha': 0.0,\n",
              " 'feature_names_in_': array(['mag1', 'mag2', 'mag3', 'mag4', 'mag5', 'mag6', 'mag7', 'mag8',\n",
              "        'mag9', 'mag10', 'mag11', 'mag12', 'mag13', 'mag14', 'mag15',\n",
              "        'mag16', 'mag17', 'mag18', 'mag19', 'mag20', 'mag21', 'mag22',\n",
              "        'mag23', 'mag24', 'mag25', 'mag26', 'mag27', 'mag28', 'mag29',\n",
              "        'mag30', 'mag31', 'mag32', 'mag33', 'mag34', 'mag35', 'mag36',\n",
              "        'mag37', 'mag38', 'mag39', 'mag40', 'mag41', 'mag42', 'mag43',\n",
              "        'mag44', 'mag45', 'mag46', 'mag47', 'mag48', 'mag49', 'mag50',\n",
              "        'mag51', 'mag52'], dtype=object),\n",
              " 'n_features_in_': 52,\n",
              " 'n_outputs_': 1,\n",
              " 'classes_': array([1, 2, 3, 4]),\n",
              " 'n_classes_': 4,\n",
              " 'max_features_': 52,\n",
              " 'tree_': <sklearn.tree._tree.Tree at 0x7fd3b2d03960>}"
            ]
          },
          "metadata": {},
          "execution_count": 14
        }
      ]
    },
    {
      "cell_type": "code",
      "source": [
        "from sklearn import metrics\n",
        "predicted = model.predict(X_test)\n",
        "print(f'accuracy = {metrics.accuracy_score(y_test, predicted)}')\n",
        "#print(f'precision = {metrics.precision_score(y_test, predicted)}')\n",
        "#print(f'recall = {metrics.recall_score(y_test, predicted)}')"
      ],
      "metadata": {
        "colab": {
          "base_uri": "https://localhost:8080/"
        },
        "id": "Ms4K8CuAEwOR",
        "outputId": "9c4b955c-38e8-4213-b0a5-d00b3f08a54c"
      },
      "execution_count": 15,
      "outputs": [
        {
          "output_type": "stream",
          "name": "stdout",
          "text": [
            "accuracy = 0.460973562736047\n"
          ]
        }
      ]
    }
  ]
}