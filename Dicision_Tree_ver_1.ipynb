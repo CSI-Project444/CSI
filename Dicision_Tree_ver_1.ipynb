{
  "nbformat": 4,
  "nbformat_minor": 0,
  "metadata": {
    "colab": {
      "provenance": [],
      "authorship_tag": "ABX9TyOiqo8vCHZ8CxpfssQKqaNL",
      "include_colab_link": true
    },
    "kernelspec": {
      "name": "python3",
      "display_name": "Python 3"
    },
    "language_info": {
      "name": "python"
    }
  },
  "cells": [
    {
      "cell_type": "markdown",
      "metadata": {
        "id": "view-in-github",
        "colab_type": "text"
      },
      "source": [
        "<a href=\"https://colab.research.google.com/github/CSI-Project444/CSI/blob/main/Dicision_Tree_ver_1.ipynb\" target=\"_parent\"><img src=\"https://colab.research.google.com/assets/colab-badge.svg\" alt=\"Open In Colab\"/></a>"
      ]
    },
    {
      "cell_type": "code",
      "execution_count": 2,
      "metadata": {
        "id": "BWLvCRS6AB09"
      },
      "outputs": [],
      "source": [
        "import pandas as pd\n",
        "import matplotlib.pyplot as plt"
      ]
    },
    {
      "cell_type": "code",
      "source": [
        "df=pd.read_csv('https://raw.githubusercontent.com/CSI-Project444/CSI/main/Data/final02.csv')\n",
        "df.sample(5)"
      ],
      "metadata": {
        "colab": {
          "base_uri": "https://localhost:8080/",
          "height": 299
        },
        "id": "ioNLapdKBbkj",
        "outputId": "8d17cc92-2496-4cca-d6c5-275728188766"
      },
      "execution_count": 5,
      "outputs": [
        {
          "output_type": "execute_result",
          "data": {
            "text/plain": [
              "      Zone       mag1       mag2       mag3       mag4       mag5       mag6  \\\n",
              "3243     2   7.615773   8.062258   8.602325   8.602325   8.602325   7.810250   \n",
              "4342     3  13.152946  13.038405  12.041595  13.038405  12.041595  12.041595   \n",
              "2754     2  11.661904  11.180340  11.180340  11.180340  10.770330   9.848858   \n",
              "525      1  12.165525  12.165525  12.369317  13.341664  12.165525  12.165525   \n",
              "307      1  10.440307  10.770330  10.770330  11.704700  11.704700  10.770330   \n",
              "\n",
              "           mag7       mag8       mag9  ...      mag43      mag44      mag45  \\\n",
              "3243   8.485281   8.485281   8.485281  ...  14.317821  13.341664  13.341664   \n",
              "4342  12.000000  12.041595  12.000000  ...  11.180340  10.198039  10.049876   \n",
              "2754  10.770330   9.848858   9.486833  ...  11.045361  10.049876  10.049876   \n",
              "525   12.165525  12.165525  12.165525  ...  12.649111  11.704700  11.704700   \n",
              "307   11.704700  10.770330  11.704700  ...   8.544004   8.544004   7.280110   \n",
              "\n",
              "          mag46      mag47      mag48      mag49      mag50      mag51  \\\n",
              "3243  12.369317  12.649111  11.704700  12.083046  11.180340  10.295630   \n",
              "4342  10.049876  10.000000  10.000000   9.055385   9.055385   9.219544   \n",
              "2754  10.000000  10.049876   9.055385   9.055385   9.219544   9.219544   \n",
              "525   11.401754  11.401754  11.401754  11.180340  11.180340  10.198039   \n",
              "307    7.280110   7.280110   7.280110   7.071068   7.071068   7.000000   \n",
              "\n",
              "          mag52  \n",
              "3243   9.433981  \n",
              "4342   8.246211  \n",
              "2754   8.544004  \n",
              "525   10.049876  \n",
              "307    6.000000  \n",
              "\n",
              "[5 rows x 53 columns]"
            ],
            "text/html": [
              "\n",
              "  <div id=\"df-98ca00fa-321c-4f14-adb0-10053bcea88a\">\n",
              "    <div class=\"colab-df-container\">\n",
              "      <div>\n",
              "<style scoped>\n",
              "    .dataframe tbody tr th:only-of-type {\n",
              "        vertical-align: middle;\n",
              "    }\n",
              "\n",
              "    .dataframe tbody tr th {\n",
              "        vertical-align: top;\n",
              "    }\n",
              "\n",
              "    .dataframe thead th {\n",
              "        text-align: right;\n",
              "    }\n",
              "</style>\n",
              "<table border=\"1\" class=\"dataframe\">\n",
              "  <thead>\n",
              "    <tr style=\"text-align: right;\">\n",
              "      <th></th>\n",
              "      <th>Zone</th>\n",
              "      <th>mag1</th>\n",
              "      <th>mag2</th>\n",
              "      <th>mag3</th>\n",
              "      <th>mag4</th>\n",
              "      <th>mag5</th>\n",
              "      <th>mag6</th>\n",
              "      <th>mag7</th>\n",
              "      <th>mag8</th>\n",
              "      <th>mag9</th>\n",
              "      <th>...</th>\n",
              "      <th>mag43</th>\n",
              "      <th>mag44</th>\n",
              "      <th>mag45</th>\n",
              "      <th>mag46</th>\n",
              "      <th>mag47</th>\n",
              "      <th>mag48</th>\n",
              "      <th>mag49</th>\n",
              "      <th>mag50</th>\n",
              "      <th>mag51</th>\n",
              "      <th>mag52</th>\n",
              "    </tr>\n",
              "  </thead>\n",
              "  <tbody>\n",
              "    <tr>\n",
              "      <th>3243</th>\n",
              "      <td>2</td>\n",
              "      <td>7.615773</td>\n",
              "      <td>8.062258</td>\n",
              "      <td>8.602325</td>\n",
              "      <td>8.602325</td>\n",
              "      <td>8.602325</td>\n",
              "      <td>7.810250</td>\n",
              "      <td>8.485281</td>\n",
              "      <td>8.485281</td>\n",
              "      <td>8.485281</td>\n",
              "      <td>...</td>\n",
              "      <td>14.317821</td>\n",
              "      <td>13.341664</td>\n",
              "      <td>13.341664</td>\n",
              "      <td>12.369317</td>\n",
              "      <td>12.649111</td>\n",
              "      <td>11.704700</td>\n",
              "      <td>12.083046</td>\n",
              "      <td>11.180340</td>\n",
              "      <td>10.295630</td>\n",
              "      <td>9.433981</td>\n",
              "    </tr>\n",
              "    <tr>\n",
              "      <th>4342</th>\n",
              "      <td>3</td>\n",
              "      <td>13.152946</td>\n",
              "      <td>13.038405</td>\n",
              "      <td>12.041595</td>\n",
              "      <td>13.038405</td>\n",
              "      <td>12.041595</td>\n",
              "      <td>12.041595</td>\n",
              "      <td>12.000000</td>\n",
              "      <td>12.041595</td>\n",
              "      <td>12.000000</td>\n",
              "      <td>...</td>\n",
              "      <td>11.180340</td>\n",
              "      <td>10.198039</td>\n",
              "      <td>10.049876</td>\n",
              "      <td>10.049876</td>\n",
              "      <td>10.000000</td>\n",
              "      <td>10.000000</td>\n",
              "      <td>9.055385</td>\n",
              "      <td>9.055385</td>\n",
              "      <td>9.219544</td>\n",
              "      <td>8.246211</td>\n",
              "    </tr>\n",
              "    <tr>\n",
              "      <th>2754</th>\n",
              "      <td>2</td>\n",
              "      <td>11.661904</td>\n",
              "      <td>11.180340</td>\n",
              "      <td>11.180340</td>\n",
              "      <td>11.180340</td>\n",
              "      <td>10.770330</td>\n",
              "      <td>9.848858</td>\n",
              "      <td>10.770330</td>\n",
              "      <td>9.848858</td>\n",
              "      <td>9.486833</td>\n",
              "      <td>...</td>\n",
              "      <td>11.045361</td>\n",
              "      <td>10.049876</td>\n",
              "      <td>10.049876</td>\n",
              "      <td>10.000000</td>\n",
              "      <td>10.049876</td>\n",
              "      <td>9.055385</td>\n",
              "      <td>9.055385</td>\n",
              "      <td>9.219544</td>\n",
              "      <td>9.219544</td>\n",
              "      <td>8.544004</td>\n",
              "    </tr>\n",
              "    <tr>\n",
              "      <th>525</th>\n",
              "      <td>1</td>\n",
              "      <td>12.165525</td>\n",
              "      <td>12.165525</td>\n",
              "      <td>12.369317</td>\n",
              "      <td>13.341664</td>\n",
              "      <td>12.165525</td>\n",
              "      <td>12.165525</td>\n",
              "      <td>12.165525</td>\n",
              "      <td>12.165525</td>\n",
              "      <td>12.165525</td>\n",
              "      <td>...</td>\n",
              "      <td>12.649111</td>\n",
              "      <td>11.704700</td>\n",
              "      <td>11.704700</td>\n",
              "      <td>11.401754</td>\n",
              "      <td>11.401754</td>\n",
              "      <td>11.401754</td>\n",
              "      <td>11.180340</td>\n",
              "      <td>11.180340</td>\n",
              "      <td>10.198039</td>\n",
              "      <td>10.049876</td>\n",
              "    </tr>\n",
              "    <tr>\n",
              "      <th>307</th>\n",
              "      <td>1</td>\n",
              "      <td>10.440307</td>\n",
              "      <td>10.770330</td>\n",
              "      <td>10.770330</td>\n",
              "      <td>11.704700</td>\n",
              "      <td>11.704700</td>\n",
              "      <td>10.770330</td>\n",
              "      <td>11.704700</td>\n",
              "      <td>10.770330</td>\n",
              "      <td>11.704700</td>\n",
              "      <td>...</td>\n",
              "      <td>8.544004</td>\n",
              "      <td>8.544004</td>\n",
              "      <td>7.280110</td>\n",
              "      <td>7.280110</td>\n",
              "      <td>7.280110</td>\n",
              "      <td>7.280110</td>\n",
              "      <td>7.071068</td>\n",
              "      <td>7.071068</td>\n",
              "      <td>7.000000</td>\n",
              "      <td>6.000000</td>\n",
              "    </tr>\n",
              "  </tbody>\n",
              "</table>\n",
              "<p>5 rows × 53 columns</p>\n",
              "</div>\n",
              "      <button class=\"colab-df-convert\" onclick=\"convertToInteractive('df-98ca00fa-321c-4f14-adb0-10053bcea88a')\"\n",
              "              title=\"Convert this dataframe to an interactive table.\"\n",
              "              style=\"display:none;\">\n",
              "        \n",
              "  <svg xmlns=\"http://www.w3.org/2000/svg\" height=\"24px\"viewBox=\"0 0 24 24\"\n",
              "       width=\"24px\">\n",
              "    <path d=\"M0 0h24v24H0V0z\" fill=\"none\"/>\n",
              "    <path d=\"M18.56 5.44l.94 2.06.94-2.06 2.06-.94-2.06-.94-.94-2.06-.94 2.06-2.06.94zm-11 1L8.5 8.5l.94-2.06 2.06-.94-2.06-.94L8.5 2.5l-.94 2.06-2.06.94zm10 10l.94 2.06.94-2.06 2.06-.94-2.06-.94-.94-2.06-.94 2.06-2.06.94z\"/><path d=\"M17.41 7.96l-1.37-1.37c-.4-.4-.92-.59-1.43-.59-.52 0-1.04.2-1.43.59L10.3 9.45l-7.72 7.72c-.78.78-.78 2.05 0 2.83L4 21.41c.39.39.9.59 1.41.59.51 0 1.02-.2 1.41-.59l7.78-7.78 2.81-2.81c.8-.78.8-2.07 0-2.86zM5.41 20L4 18.59l7.72-7.72 1.47 1.35L5.41 20z\"/>\n",
              "  </svg>\n",
              "      </button>\n",
              "      \n",
              "  <style>\n",
              "    .colab-df-container {\n",
              "      display:flex;\n",
              "      flex-wrap:wrap;\n",
              "      gap: 12px;\n",
              "    }\n",
              "\n",
              "    .colab-df-convert {\n",
              "      background-color: #E8F0FE;\n",
              "      border: none;\n",
              "      border-radius: 50%;\n",
              "      cursor: pointer;\n",
              "      display: none;\n",
              "      fill: #1967D2;\n",
              "      height: 32px;\n",
              "      padding: 0 0 0 0;\n",
              "      width: 32px;\n",
              "    }\n",
              "\n",
              "    .colab-df-convert:hover {\n",
              "      background-color: #E2EBFA;\n",
              "      box-shadow: 0px 1px 2px rgba(60, 64, 67, 0.3), 0px 1px 3px 1px rgba(60, 64, 67, 0.15);\n",
              "      fill: #174EA6;\n",
              "    }\n",
              "\n",
              "    [theme=dark] .colab-df-convert {\n",
              "      background-color: #3B4455;\n",
              "      fill: #D2E3FC;\n",
              "    }\n",
              "\n",
              "    [theme=dark] .colab-df-convert:hover {\n",
              "      background-color: #434B5C;\n",
              "      box-shadow: 0px 1px 3px 1px rgba(0, 0, 0, 0.15);\n",
              "      filter: drop-shadow(0px 1px 2px rgba(0, 0, 0, 0.3));\n",
              "      fill: #FFFFFF;\n",
              "    }\n",
              "  </style>\n",
              "\n",
              "      <script>\n",
              "        const buttonEl =\n",
              "          document.querySelector('#df-98ca00fa-321c-4f14-adb0-10053bcea88a button.colab-df-convert');\n",
              "        buttonEl.style.display =\n",
              "          google.colab.kernel.accessAllowed ? 'block' : 'none';\n",
              "\n",
              "        async function convertToInteractive(key) {\n",
              "          const element = document.querySelector('#df-98ca00fa-321c-4f14-adb0-10053bcea88a');\n",
              "          const dataTable =\n",
              "            await google.colab.kernel.invokeFunction('convertToInteractive',\n",
              "                                                     [key], {});\n",
              "          if (!dataTable) return;\n",
              "\n",
              "          const docLinkHtml = 'Like what you see? Visit the ' +\n",
              "            '<a target=\"_blank\" href=https://colab.research.google.com/notebooks/data_table.ipynb>data table notebook</a>'\n",
              "            + ' to learn more about interactive tables.';\n",
              "          element.innerHTML = '';\n",
              "          dataTable['output_type'] = 'display_data';\n",
              "          await google.colab.output.renderOutput(dataTable, element);\n",
              "          const docLink = document.createElement('div');\n",
              "          docLink.innerHTML = docLinkHtml;\n",
              "          element.appendChild(docLink);\n",
              "        }\n",
              "      </script>\n",
              "    </div>\n",
              "  </div>\n",
              "  "
            ]
          },
          "metadata": {},
          "execution_count": 5
        }
      ]
    },
    {
      "cell_type": "code",
      "source": [
        "df.columns"
      ],
      "metadata": {
        "colab": {
          "base_uri": "https://localhost:8080/"
        },
        "id": "xfQMPZsWBsHA",
        "outputId": "1e376002-7b7f-493b-8da5-2b6b9ee4f151"
      },
      "execution_count": 4,
      "outputs": [
        {
          "output_type": "execute_result",
          "data": {
            "text/plain": [
              "Index(['Zone', 'mag1', 'mag2', 'mag3', 'mag4', 'mag5', 'mag6', 'mag7', 'mag8',\n",
              "       'mag9', 'mag10', 'mag11', 'mag12', 'mag13', 'mag14', 'mag15', 'mag16',\n",
              "       'mag17', 'mag18', 'mag19', 'mag20', 'mag21', 'mag22', 'mag23', 'mag24',\n",
              "       'mag25', 'mag26', 'mag27', 'mag28', 'mag29', 'mag30', 'mag31', 'mag32',\n",
              "       'mag33', 'mag34', 'mag35', 'mag36', 'mag37', 'mag38', 'mag39', 'mag40',\n",
              "       'mag41', 'mag42', 'mag43', 'mag44', 'mag45', 'mag46', 'mag47', 'mag48',\n",
              "       'mag49', 'mag50', 'mag51', 'mag52'],\n",
              "      dtype='object')"
            ]
          },
          "metadata": {},
          "execution_count": 4
        }
      ]
    },
    {
      "cell_type": "code",
      "source": [
        "from sklearn.model_selection import train_test_split\n",
        "from sklearn import tree"
      ],
      "metadata": {
        "id": "LUUOWhpxB09w"
      },
      "execution_count": 6,
      "outputs": []
    },
    {
      "cell_type": "code",
      "source": [
        "feature_cols=['mag1', 'mag2', 'mag3', 'mag4', 'mag5', 'mag6', 'mag7', 'mag8',\n",
        "       'mag9', 'mag10', 'mag11', 'mag12', 'mag13', 'mag14', 'mag15', 'mag16',\n",
        "       'mag17', 'mag18', 'mag19', 'mag20', 'mag21', 'mag22', 'mag23', 'mag24',\n",
        "       'mag25', 'mag26', 'mag27', 'mag28', 'mag29', 'mag30', 'mag31', 'mag32',\n",
        "       'mag33', 'mag34', 'mag35', 'mag36', 'mag37', 'mag38', 'mag39', 'mag40',\n",
        "       'mag41', 'mag42', 'mag43', 'mag44', 'mag45', 'mag46', 'mag47', 'mag48',\n",
        "       'mag49', 'mag50', 'mag51', 'mag52']\n",
        "target_col='Zone'\n",
        "X=df[feature_cols]\n",
        "y=df[target_col]\n",
        "\n",
        "test_size=.6\n",
        "X_train, X_test, y_train, y_test = train_test_split(\n",
        "    X, y, \n",
        "    test_size=test_size, random_state=4)"
      ],
      "metadata": {
        "id": "0sWeZpl0B2NC"
      },
      "execution_count": 38,
      "outputs": []
    },
    {
      "cell_type": "code",
      "source": [
        "# default ของ sklearn จะพิจารณาการสร้างเเผนภาพต้นไม้ด้วย Gini index \n",
        "# โดยสามารถเลือกเกณฑ์การพิจารณาด้วยการกำหนดพารามิเตอร์ criterion\n",
        "model = tree.DecisionTreeClassifier() "
      ],
      "metadata": {
        "id": "I-zxFuyzCDfh"
      },
      "execution_count": 39,
      "outputs": []
    },
    {
      "cell_type": "code",
      "source": [
        "model.get_params()"
      ],
      "metadata": {
        "colab": {
          "base_uri": "https://localhost:8080/"
        },
        "id": "8MSVYZ8uCGqh",
        "outputId": "204fc9da-81af-4d60-f084-92f6ef08aa77"
      },
      "execution_count": 23,
      "outputs": [
        {
          "output_type": "execute_result",
          "data": {
            "text/plain": [
              "{'ccp_alpha': 0.0,\n",
              " 'class_weight': None,\n",
              " 'criterion': 'gini',\n",
              " 'max_depth': None,\n",
              " 'max_features': None,\n",
              " 'max_leaf_nodes': None,\n",
              " 'min_impurity_decrease': 0.0,\n",
              " 'min_samples_leaf': 1,\n",
              " 'min_samples_split': 2,\n",
              " 'min_weight_fraction_leaf': 0.0,\n",
              " 'random_state': None,\n",
              " 'splitter': 'best'}"
            ]
          },
          "metadata": {},
          "execution_count": 23
        }
      ]
    },
    {
      "cell_type": "code",
      "source": [
        "params={'ccp_alpha': 0.0,\n",
        " 'class_weight': None,\n",
        " 'criterion': 'gini',\n",
        " 'max_depth': 3,\n",
        " 'max_features': None,\n",
        " 'max_leaf_nodes': None,\n",
        " 'min_impurity_decrease': 0.0,\n",
        "#  'min_impurity_split': None,\n",
        " 'min_samples_leaf': 1,\n",
        " 'min_samples_split': 2,\n",
        " 'min_weight_fraction_leaf': 0.0,\n",
        " 'random_state': None,\n",
        " 'splitter': 'best'}\n",
        "model=tree.DecisionTreeClassifier(**params)"
      ],
      "metadata": {
        "id": "9zUb_gVoCMDB"
      },
      "execution_count": 40,
      "outputs": []
    },
    {
      "cell_type": "code",
      "source": [
        "model = model.fit(X_train, y_train)"
      ],
      "metadata": {
        "id": "vN9M8-oSCdmB"
      },
      "execution_count": 41,
      "outputs": []
    },
    {
      "cell_type": "code",
      "source": [
        "model"
      ],
      "metadata": {
        "colab": {
          "base_uri": "https://localhost:8080/"
        },
        "id": "uUS6bfgMCk8t",
        "outputId": "8d851dd3-dbfc-43b0-9cd1-1885e3615e42"
      },
      "execution_count": 42,
      "outputs": [
        {
          "output_type": "execute_result",
          "data": {
            "text/plain": [
              "DecisionTreeClassifier(max_depth=3)"
            ]
          },
          "metadata": {},
          "execution_count": 42
        }
      ]
    },
    {
      "cell_type": "code",
      "metadata": {
        "colab": {
          "base_uri": "https://localhost:8080/"
        },
        "id": "dAxSAUwAMxJq",
        "outputId": "a5cadeb8-adfc-40cb-92bf-f494da556045"
      },
      "source": [
        "# print('column_name',X_train.columns)\n",
        "# model.feature_importances_\n",
        "fs = pd.Series(model.feature_importances_, index=X_train.columns.sort_values(ascending=True))\n",
        "fs"
      ],
      "execution_count": 43,
      "outputs": [
        {
          "output_type": "execute_result",
          "data": {
            "text/plain": [
              "mag1     0.183567\n",
              "mag10    0.000000\n",
              "mag11    0.000000\n",
              "mag12    0.000000\n",
              "mag13    0.000000\n",
              "mag14    0.000000\n",
              "mag15    0.000000\n",
              "mag16    0.000000\n",
              "mag17    0.319407\n",
              "mag18    0.000000\n",
              "mag19    0.000000\n",
              "mag2     0.000000\n",
              "mag20    0.000000\n",
              "mag21    0.000000\n",
              "mag22    0.000000\n",
              "mag23    0.000000\n",
              "mag24    0.000000\n",
              "mag25    0.000000\n",
              "mag26    0.000000\n",
              "mag27    0.000000\n",
              "mag28    0.012343\n",
              "mag29    0.000000\n",
              "mag3     0.000000\n",
              "mag30    0.000000\n",
              "mag31    0.000000\n",
              "mag32    0.000000\n",
              "mag33    0.000000\n",
              "mag34    0.000000\n",
              "mag35    0.000000\n",
              "mag36    0.000000\n",
              "mag37    0.000000\n",
              "mag38    0.000000\n",
              "mag39    0.000000\n",
              "mag4     0.000000\n",
              "mag40    0.000000\n",
              "mag41    0.342310\n",
              "mag42    0.004504\n",
              "mag43    0.026927\n",
              "mag44    0.000000\n",
              "mag45    0.110943\n",
              "mag46    0.000000\n",
              "mag47    0.000000\n",
              "mag48    0.000000\n",
              "mag49    0.000000\n",
              "mag5     0.000000\n",
              "mag50    0.000000\n",
              "mag51    0.000000\n",
              "mag52    0.000000\n",
              "mag6     0.000000\n",
              "mag7     0.000000\n",
              "mag8     0.000000\n",
              "mag9     0.000000\n",
              "dtype: float64"
            ]
          },
          "metadata": {},
          "execution_count": 43
        }
      ]
    },
    {
      "cell_type": "code",
      "source": [
        "model.score(X_train, y_train)"
      ],
      "metadata": {
        "colab": {
          "base_uri": "https://localhost:8080/"
        },
        "id": "qfIKXzsuDTcb",
        "outputId": "f87f9e96-b01e-459a-bcd5-e087cc7e53de"
      },
      "execution_count": 44,
      "outputs": [
        {
          "output_type": "execute_result",
          "data": {
            "text/plain": [
              "0.6600378787878788"
            ]
          },
          "metadata": {},
          "execution_count": 44
        }
      ]
    },
    {
      "cell_type": "code",
      "source": [
        "model.score(X_test, y_test)"
      ],
      "metadata": {
        "colab": {
          "base_uri": "https://localhost:8080/"
        },
        "id": "bFQymB_HDXYx",
        "outputId": "b737bc93-4caa-4f3c-d9f1-cd5d62863df3"
      },
      "execution_count": 45,
      "outputs": [
        {
          "output_type": "execute_result",
          "data": {
            "text/plain": [
              "0.6367269667648296"
            ]
          },
          "metadata": {},
          "execution_count": 45
        }
      ]
    },
    {
      "cell_type": "code",
      "source": [
        "model.__dict__"
      ],
      "metadata": {
        "colab": {
          "base_uri": "https://localhost:8080/"
        },
        "id": "xFnIaqUtDg3v",
        "outputId": "72b736d0-3ab8-4f01-94ff-5ce2625e0888"
      },
      "execution_count": 46,
      "outputs": [
        {
          "output_type": "execute_result",
          "data": {
            "text/plain": [
              "{'criterion': 'gini',\n",
              " 'splitter': 'best',\n",
              " 'max_depth': 3,\n",
              " 'min_samples_split': 2,\n",
              " 'min_samples_leaf': 1,\n",
              " 'min_weight_fraction_leaf': 0.0,\n",
              " 'max_features': None,\n",
              " 'max_leaf_nodes': None,\n",
              " 'random_state': None,\n",
              " 'min_impurity_decrease': 0.0,\n",
              " 'class_weight': None,\n",
              " 'ccp_alpha': 0.0,\n",
              " 'feature_names_in_': array(['mag1', 'mag2', 'mag3', 'mag4', 'mag5', 'mag6', 'mag7', 'mag8',\n",
              "        'mag9', 'mag10', 'mag11', 'mag12', 'mag13', 'mag14', 'mag15',\n",
              "        'mag16', 'mag17', 'mag18', 'mag19', 'mag20', 'mag21', 'mag22',\n",
              "        'mag23', 'mag24', 'mag25', 'mag26', 'mag27', 'mag28', 'mag29',\n",
              "        'mag30', 'mag31', 'mag32', 'mag33', 'mag34', 'mag35', 'mag36',\n",
              "        'mag37', 'mag38', 'mag39', 'mag40', 'mag41', 'mag42', 'mag43',\n",
              "        'mag44', 'mag45', 'mag46', 'mag47', 'mag48', 'mag49', 'mag50',\n",
              "        'mag51', 'mag52'], dtype=object),\n",
              " 'n_features_in_': 52,\n",
              " 'n_outputs_': 1,\n",
              " 'classes_': array([1, 2, 3, 4]),\n",
              " 'n_classes_': 4,\n",
              " 'max_features_': 52,\n",
              " 'tree_': <sklearn.tree._tree.Tree at 0x7f0e7baa9960>}"
            ]
          },
          "metadata": {},
          "execution_count": 46
        }
      ]
    },
    {
      "cell_type": "code",
      "source": [
        "from sklearn import metrics\n",
        "predicted = model.predict(X_test)\n",
        "print(f'accuracy = {metrics.accuracy_score(y_test, predicted)}')\n",
        "#print(f'precision = {metrics.precision_score(y_test, predicted)}')\n",
        "#print(f'recall = {metrics.recall_score(y_test, predicted)}')"
      ],
      "metadata": {
        "colab": {
          "base_uri": "https://localhost:8080/"
        },
        "id": "Ms4K8CuAEwOR",
        "outputId": "c5f3369f-d3ff-4231-b069-8e950e503779"
      },
      "execution_count": 47,
      "outputs": [
        {
          "output_type": "stream",
          "name": "stdout",
          "text": [
            "accuracy = 0.6367269667648296\n"
          ]
        }
      ]
    }
  ]
}