{
  "nbformat": 4,
  "nbformat_minor": 0,
  "metadata": {
    "colab": {
      "provenance": [],
      "authorship_tag": "ABX9TyNgXw5fKEzwcuFscR3k2svJ",
      "include_colab_link": true
    },
    "kernelspec": {
      "name": "python3",
      "display_name": "Python 3"
    },
    "language_info": {
      "name": "python"
    }
  },
  "cells": [
    {
      "cell_type": "markdown",
      "metadata": {
        "id": "view-in-github",
        "colab_type": "text"
      },
      "source": [
        "<a href=\"https://colab.research.google.com/github/CSI-Project444/CSI/blob/main/KNN_By_lang_ver_2.ipynb\" target=\"_parent\"><img src=\"https://colab.research.google.com/assets/colab-badge.svg\" alt=\"Open In Colab\"/></a>"
      ]
    },
    {
      "cell_type": "markdown",
      "source": [
        "**5_K-Nearest Neighbors (KNN)**"
      ],
      "metadata": {
        "id": "R-MPvq7hZrJk"
      }
    },
    {
      "cell_type": "markdown",
      "source": [
        "Import Library"
      ],
      "metadata": {
        "id": "6eLDwZ4si37v"
      }
    },
    {
      "cell_type": "code",
      "source": [
        "import numpy as np\n",
        "import pandas as pd\n",
        "import seaborn as sns \n",
        "import matplotlib.pyplot as plt"
      ],
      "metadata": {
        "id": "4nhmwxsIib9G"
      },
      "execution_count": 38,
      "outputs": []
    },
    {
      "cell_type": "markdown",
      "source": [
        "Import File or File Path"
      ],
      "metadata": {
        "id": "qGoWMOWii52V"
      }
    },
    {
      "cell_type": "code",
      "source": [
        "url='https://raw.githubusercontent.com/CSI-Project444/CSI/main/Data/final02.csv'\n",
        "df=pd.read_csv(url)\n",
        "df"
      ],
      "metadata": {
        "id": "6GSwPeHGiedQ",
        "colab": {
          "base_uri": "https://localhost:8080/",
          "height": 487
        },
        "outputId": "bd0be3ca-4069-4321-b464-5b1b932d8198"
      },
      "execution_count": 39,
      "outputs": [
        {
          "output_type": "execute_result",
          "data": {
            "text/plain": [
              "      Zone       mag1       mag2       mag3       mag4       mag5       mag6  \\\n",
              "0        1  11.401754  12.369317  11.704700  12.649111  12.369317  12.369317   \n",
              "1        1  11.704700  12.083046  12.083046  12.083046  12.083046  12.083046   \n",
              "2        1  13.038405  12.206556  13.038405  13.038405  13.038405  13.038405   \n",
              "3        1  13.892444  13.416408  13.416408  13.416408  13.416408  12.529964   \n",
              "4        1  13.000000  13.000000  12.083046  13.000000  13.000000  12.083046   \n",
              "...    ...        ...        ...        ...        ...        ...        ...   \n",
              "7917     4   8.944272   9.486833   8.544004   9.486833   8.246211   9.219544   \n",
              "7918     4  10.198039  10.049876  10.000000  10.049876  10.000000  10.000000   \n",
              "7919     4   9.848858  10.295630   9.433981   9.433981   9.433981  10.000000   \n",
              "7920     4   9.486833   9.848858   9.848858   9.848858  10.295630   9.433981   \n",
              "7921     4  11.180340  11.180340  11.045361  11.045361  11.000000  10.000000   \n",
              "\n",
              "           mag7       mag8       mag9  ...      mag43      mag44      mag45  \\\n",
              "0     12.649111  12.649111  12.649111  ...  10.295630  10.295630  10.295630   \n",
              "1     12.083046  12.083046  12.083046  ...   9.433981   9.433981   8.944272   \n",
              "2     13.038405  12.206556  13.038405  ...   9.219544   8.602325   8.602325   \n",
              "3     13.416408  12.529964  12.529964  ...   8.944272   7.615773   8.062258   \n",
              "4     12.083046  12.083046  12.083046  ...   7.211103   7.211103   7.615773   \n",
              "...         ...        ...        ...  ...        ...        ...        ...   \n",
              "7917   9.055385   9.055385   9.055385  ...  11.045361  10.049876  10.000000   \n",
              "7918  10.049876  10.049876  10.049876  ...  11.401754  11.401754  10.198039   \n",
              "7919   9.219544   9.899495   9.899495  ...  10.630146  10.630146   9.899495   \n",
              "7920  10.000000  10.000000  10.000000  ...  10.630146  10.000000  10.000000   \n",
              "7921  10.049876  10.049876  10.049876  ...  11.180340  11.180340  10.049876   \n",
              "\n",
              "          mag46      mag47     mag48     mag49     mag50      mag51     mag52  \n",
              "0      9.848858   9.848858  9.848858  9.486833  9.486833  10.198039  9.055385  \n",
              "1      8.944272   8.544004  8.544004  8.544004  9.219544   9.219544  8.062258  \n",
              "2      8.602325   8.062258  8.062258  8.062258  7.615773   8.544004  7.280110  \n",
              "3      8.062258   8.602325  8.602325  7.810250  7.810250   7.810250  7.071068  \n",
              "4      7.615773   7.615773  7.280110  7.280110  7.280110   7.071068  7.071068  \n",
              "...         ...        ...       ...       ...       ...        ...       ...  \n",
              "7917   9.000000   9.000000  9.055385  9.055385  8.062258   8.246211  7.280110  \n",
              "7918  10.198039  10.049876  9.055385  9.000000  9.000000   9.000000  8.062258  \n",
              "7919   9.899495   9.219544  9.219544  8.602325  8.602325   8.062258  8.062258  \n",
              "7920   9.433981   9.433981  9.433981  8.944272  8.062258   7.615773  7.615773  \n",
              "7921  10.049876  10.000000  9.000000  9.000000  9.055385   9.219544  8.246211  \n",
              "\n",
              "[7922 rows x 53 columns]"
            ],
            "text/html": [
              "\n",
              "  <div id=\"df-c62223d7-69e5-4b21-9746-5df6e0022c65\">\n",
              "    <div class=\"colab-df-container\">\n",
              "      <div>\n",
              "<style scoped>\n",
              "    .dataframe tbody tr th:only-of-type {\n",
              "        vertical-align: middle;\n",
              "    }\n",
              "\n",
              "    .dataframe tbody tr th {\n",
              "        vertical-align: top;\n",
              "    }\n",
              "\n",
              "    .dataframe thead th {\n",
              "        text-align: right;\n",
              "    }\n",
              "</style>\n",
              "<table border=\"1\" class=\"dataframe\">\n",
              "  <thead>\n",
              "    <tr style=\"text-align: right;\">\n",
              "      <th></th>\n",
              "      <th>Zone</th>\n",
              "      <th>mag1</th>\n",
              "      <th>mag2</th>\n",
              "      <th>mag3</th>\n",
              "      <th>mag4</th>\n",
              "      <th>mag5</th>\n",
              "      <th>mag6</th>\n",
              "      <th>mag7</th>\n",
              "      <th>mag8</th>\n",
              "      <th>mag9</th>\n",
              "      <th>...</th>\n",
              "      <th>mag43</th>\n",
              "      <th>mag44</th>\n",
              "      <th>mag45</th>\n",
              "      <th>mag46</th>\n",
              "      <th>mag47</th>\n",
              "      <th>mag48</th>\n",
              "      <th>mag49</th>\n",
              "      <th>mag50</th>\n",
              "      <th>mag51</th>\n",
              "      <th>mag52</th>\n",
              "    </tr>\n",
              "  </thead>\n",
              "  <tbody>\n",
              "    <tr>\n",
              "      <th>0</th>\n",
              "      <td>1</td>\n",
              "      <td>11.401754</td>\n",
              "      <td>12.369317</td>\n",
              "      <td>11.704700</td>\n",
              "      <td>12.649111</td>\n",
              "      <td>12.369317</td>\n",
              "      <td>12.369317</td>\n",
              "      <td>12.649111</td>\n",
              "      <td>12.649111</td>\n",
              "      <td>12.649111</td>\n",
              "      <td>...</td>\n",
              "      <td>10.295630</td>\n",
              "      <td>10.295630</td>\n",
              "      <td>10.295630</td>\n",
              "      <td>9.848858</td>\n",
              "      <td>9.848858</td>\n",
              "      <td>9.848858</td>\n",
              "      <td>9.486833</td>\n",
              "      <td>9.486833</td>\n",
              "      <td>10.198039</td>\n",
              "      <td>9.055385</td>\n",
              "    </tr>\n",
              "    <tr>\n",
              "      <th>1</th>\n",
              "      <td>1</td>\n",
              "      <td>11.704700</td>\n",
              "      <td>12.083046</td>\n",
              "      <td>12.083046</td>\n",
              "      <td>12.083046</td>\n",
              "      <td>12.083046</td>\n",
              "      <td>12.083046</td>\n",
              "      <td>12.083046</td>\n",
              "      <td>12.083046</td>\n",
              "      <td>12.083046</td>\n",
              "      <td>...</td>\n",
              "      <td>9.433981</td>\n",
              "      <td>9.433981</td>\n",
              "      <td>8.944272</td>\n",
              "      <td>8.944272</td>\n",
              "      <td>8.544004</td>\n",
              "      <td>8.544004</td>\n",
              "      <td>8.544004</td>\n",
              "      <td>9.219544</td>\n",
              "      <td>9.219544</td>\n",
              "      <td>8.062258</td>\n",
              "    </tr>\n",
              "    <tr>\n",
              "      <th>2</th>\n",
              "      <td>1</td>\n",
              "      <td>13.038405</td>\n",
              "      <td>12.206556</td>\n",
              "      <td>13.038405</td>\n",
              "      <td>13.038405</td>\n",
              "      <td>13.038405</td>\n",
              "      <td>13.038405</td>\n",
              "      <td>13.038405</td>\n",
              "      <td>12.206556</td>\n",
              "      <td>13.038405</td>\n",
              "      <td>...</td>\n",
              "      <td>9.219544</td>\n",
              "      <td>8.602325</td>\n",
              "      <td>8.602325</td>\n",
              "      <td>8.602325</td>\n",
              "      <td>8.062258</td>\n",
              "      <td>8.062258</td>\n",
              "      <td>8.062258</td>\n",
              "      <td>7.615773</td>\n",
              "      <td>8.544004</td>\n",
              "      <td>7.280110</td>\n",
              "    </tr>\n",
              "    <tr>\n",
              "      <th>3</th>\n",
              "      <td>1</td>\n",
              "      <td>13.892444</td>\n",
              "      <td>13.416408</td>\n",
              "      <td>13.416408</td>\n",
              "      <td>13.416408</td>\n",
              "      <td>13.416408</td>\n",
              "      <td>12.529964</td>\n",
              "      <td>13.416408</td>\n",
              "      <td>12.529964</td>\n",
              "      <td>12.529964</td>\n",
              "      <td>...</td>\n",
              "      <td>8.944272</td>\n",
              "      <td>7.615773</td>\n",
              "      <td>8.062258</td>\n",
              "      <td>8.062258</td>\n",
              "      <td>8.602325</td>\n",
              "      <td>8.602325</td>\n",
              "      <td>7.810250</td>\n",
              "      <td>7.810250</td>\n",
              "      <td>7.810250</td>\n",
              "      <td>7.071068</td>\n",
              "    </tr>\n",
              "    <tr>\n",
              "      <th>4</th>\n",
              "      <td>1</td>\n",
              "      <td>13.000000</td>\n",
              "      <td>13.000000</td>\n",
              "      <td>12.083046</td>\n",
              "      <td>13.000000</td>\n",
              "      <td>13.000000</td>\n",
              "      <td>12.083046</td>\n",
              "      <td>12.083046</td>\n",
              "      <td>12.083046</td>\n",
              "      <td>12.083046</td>\n",
              "      <td>...</td>\n",
              "      <td>7.211103</td>\n",
              "      <td>7.211103</td>\n",
              "      <td>7.615773</td>\n",
              "      <td>7.615773</td>\n",
              "      <td>7.615773</td>\n",
              "      <td>7.280110</td>\n",
              "      <td>7.280110</td>\n",
              "      <td>7.280110</td>\n",
              "      <td>7.071068</td>\n",
              "      <td>7.071068</td>\n",
              "    </tr>\n",
              "    <tr>\n",
              "      <th>...</th>\n",
              "      <td>...</td>\n",
              "      <td>...</td>\n",
              "      <td>...</td>\n",
              "      <td>...</td>\n",
              "      <td>...</td>\n",
              "      <td>...</td>\n",
              "      <td>...</td>\n",
              "      <td>...</td>\n",
              "      <td>...</td>\n",
              "      <td>...</td>\n",
              "      <td>...</td>\n",
              "      <td>...</td>\n",
              "      <td>...</td>\n",
              "      <td>...</td>\n",
              "      <td>...</td>\n",
              "      <td>...</td>\n",
              "      <td>...</td>\n",
              "      <td>...</td>\n",
              "      <td>...</td>\n",
              "      <td>...</td>\n",
              "      <td>...</td>\n",
              "    </tr>\n",
              "    <tr>\n",
              "      <th>7917</th>\n",
              "      <td>4</td>\n",
              "      <td>8.944272</td>\n",
              "      <td>9.486833</td>\n",
              "      <td>8.544004</td>\n",
              "      <td>9.486833</td>\n",
              "      <td>8.246211</td>\n",
              "      <td>9.219544</td>\n",
              "      <td>9.055385</td>\n",
              "      <td>9.055385</td>\n",
              "      <td>9.055385</td>\n",
              "      <td>...</td>\n",
              "      <td>11.045361</td>\n",
              "      <td>10.049876</td>\n",
              "      <td>10.000000</td>\n",
              "      <td>9.000000</td>\n",
              "      <td>9.000000</td>\n",
              "      <td>9.055385</td>\n",
              "      <td>9.055385</td>\n",
              "      <td>8.062258</td>\n",
              "      <td>8.246211</td>\n",
              "      <td>7.280110</td>\n",
              "    </tr>\n",
              "    <tr>\n",
              "      <th>7918</th>\n",
              "      <td>4</td>\n",
              "      <td>10.198039</td>\n",
              "      <td>10.049876</td>\n",
              "      <td>10.000000</td>\n",
              "      <td>10.049876</td>\n",
              "      <td>10.000000</td>\n",
              "      <td>10.000000</td>\n",
              "      <td>10.049876</td>\n",
              "      <td>10.049876</td>\n",
              "      <td>10.049876</td>\n",
              "      <td>...</td>\n",
              "      <td>11.401754</td>\n",
              "      <td>11.401754</td>\n",
              "      <td>10.198039</td>\n",
              "      <td>10.198039</td>\n",
              "      <td>10.049876</td>\n",
              "      <td>9.055385</td>\n",
              "      <td>9.000000</td>\n",
              "      <td>9.000000</td>\n",
              "      <td>9.000000</td>\n",
              "      <td>8.062258</td>\n",
              "    </tr>\n",
              "    <tr>\n",
              "      <th>7919</th>\n",
              "      <td>4</td>\n",
              "      <td>9.848858</td>\n",
              "      <td>10.295630</td>\n",
              "      <td>9.433981</td>\n",
              "      <td>9.433981</td>\n",
              "      <td>9.433981</td>\n",
              "      <td>10.000000</td>\n",
              "      <td>9.219544</td>\n",
              "      <td>9.899495</td>\n",
              "      <td>9.899495</td>\n",
              "      <td>...</td>\n",
              "      <td>10.630146</td>\n",
              "      <td>10.630146</td>\n",
              "      <td>9.899495</td>\n",
              "      <td>9.899495</td>\n",
              "      <td>9.219544</td>\n",
              "      <td>9.219544</td>\n",
              "      <td>8.602325</td>\n",
              "      <td>8.602325</td>\n",
              "      <td>8.062258</td>\n",
              "      <td>8.062258</td>\n",
              "    </tr>\n",
              "    <tr>\n",
              "      <th>7920</th>\n",
              "      <td>4</td>\n",
              "      <td>9.486833</td>\n",
              "      <td>9.848858</td>\n",
              "      <td>9.848858</td>\n",
              "      <td>9.848858</td>\n",
              "      <td>10.295630</td>\n",
              "      <td>9.433981</td>\n",
              "      <td>10.000000</td>\n",
              "      <td>10.000000</td>\n",
              "      <td>10.000000</td>\n",
              "      <td>...</td>\n",
              "      <td>10.630146</td>\n",
              "      <td>10.000000</td>\n",
              "      <td>10.000000</td>\n",
              "      <td>9.433981</td>\n",
              "      <td>9.433981</td>\n",
              "      <td>9.433981</td>\n",
              "      <td>8.944272</td>\n",
              "      <td>8.062258</td>\n",
              "      <td>7.615773</td>\n",
              "      <td>7.615773</td>\n",
              "    </tr>\n",
              "    <tr>\n",
              "      <th>7921</th>\n",
              "      <td>4</td>\n",
              "      <td>11.180340</td>\n",
              "      <td>11.180340</td>\n",
              "      <td>11.045361</td>\n",
              "      <td>11.045361</td>\n",
              "      <td>11.000000</td>\n",
              "      <td>10.000000</td>\n",
              "      <td>10.049876</td>\n",
              "      <td>10.049876</td>\n",
              "      <td>10.049876</td>\n",
              "      <td>...</td>\n",
              "      <td>11.180340</td>\n",
              "      <td>11.180340</td>\n",
              "      <td>10.049876</td>\n",
              "      <td>10.049876</td>\n",
              "      <td>10.000000</td>\n",
              "      <td>9.000000</td>\n",
              "      <td>9.000000</td>\n",
              "      <td>9.055385</td>\n",
              "      <td>9.219544</td>\n",
              "      <td>8.246211</td>\n",
              "    </tr>\n",
              "  </tbody>\n",
              "</table>\n",
              "<p>7922 rows × 53 columns</p>\n",
              "</div>\n",
              "      <button class=\"colab-df-convert\" onclick=\"convertToInteractive('df-c62223d7-69e5-4b21-9746-5df6e0022c65')\"\n",
              "              title=\"Convert this dataframe to an interactive table.\"\n",
              "              style=\"display:none;\">\n",
              "        \n",
              "  <svg xmlns=\"http://www.w3.org/2000/svg\" height=\"24px\"viewBox=\"0 0 24 24\"\n",
              "       width=\"24px\">\n",
              "    <path d=\"M0 0h24v24H0V0z\" fill=\"none\"/>\n",
              "    <path d=\"M18.56 5.44l.94 2.06.94-2.06 2.06-.94-2.06-.94-.94-2.06-.94 2.06-2.06.94zm-11 1L8.5 8.5l.94-2.06 2.06-.94-2.06-.94L8.5 2.5l-.94 2.06-2.06.94zm10 10l.94 2.06.94-2.06 2.06-.94-2.06-.94-.94-2.06-.94 2.06-2.06.94z\"/><path d=\"M17.41 7.96l-1.37-1.37c-.4-.4-.92-.59-1.43-.59-.52 0-1.04.2-1.43.59L10.3 9.45l-7.72 7.72c-.78.78-.78 2.05 0 2.83L4 21.41c.39.39.9.59 1.41.59.51 0 1.02-.2 1.41-.59l7.78-7.78 2.81-2.81c.8-.78.8-2.07 0-2.86zM5.41 20L4 18.59l7.72-7.72 1.47 1.35L5.41 20z\"/>\n",
              "  </svg>\n",
              "      </button>\n",
              "      \n",
              "  <style>\n",
              "    .colab-df-container {\n",
              "      display:flex;\n",
              "      flex-wrap:wrap;\n",
              "      gap: 12px;\n",
              "    }\n",
              "\n",
              "    .colab-df-convert {\n",
              "      background-color: #E8F0FE;\n",
              "      border: none;\n",
              "      border-radius: 50%;\n",
              "      cursor: pointer;\n",
              "      display: none;\n",
              "      fill: #1967D2;\n",
              "      height: 32px;\n",
              "      padding: 0 0 0 0;\n",
              "      width: 32px;\n",
              "    }\n",
              "\n",
              "    .colab-df-convert:hover {\n",
              "      background-color: #E2EBFA;\n",
              "      box-shadow: 0px 1px 2px rgba(60, 64, 67, 0.3), 0px 1px 3px 1px rgba(60, 64, 67, 0.15);\n",
              "      fill: #174EA6;\n",
              "    }\n",
              "\n",
              "    [theme=dark] .colab-df-convert {\n",
              "      background-color: #3B4455;\n",
              "      fill: #D2E3FC;\n",
              "    }\n",
              "\n",
              "    [theme=dark] .colab-df-convert:hover {\n",
              "      background-color: #434B5C;\n",
              "      box-shadow: 0px 1px 3px 1px rgba(0, 0, 0, 0.15);\n",
              "      filter: drop-shadow(0px 1px 2px rgba(0, 0, 0, 0.3));\n",
              "      fill: #FFFFFF;\n",
              "    }\n",
              "  </style>\n",
              "\n",
              "      <script>\n",
              "        const buttonEl =\n",
              "          document.querySelector('#df-c62223d7-69e5-4b21-9746-5df6e0022c65 button.colab-df-convert');\n",
              "        buttonEl.style.display =\n",
              "          google.colab.kernel.accessAllowed ? 'block' : 'none';\n",
              "\n",
              "        async function convertToInteractive(key) {\n",
              "          const element = document.querySelector('#df-c62223d7-69e5-4b21-9746-5df6e0022c65');\n",
              "          const dataTable =\n",
              "            await google.colab.kernel.invokeFunction('convertToInteractive',\n",
              "                                                     [key], {});\n",
              "          if (!dataTable) return;\n",
              "\n",
              "          const docLinkHtml = 'Like what you see? Visit the ' +\n",
              "            '<a target=\"_blank\" href=https://colab.research.google.com/notebooks/data_table.ipynb>data table notebook</a>'\n",
              "            + ' to learn more about interactive tables.';\n",
              "          element.innerHTML = '';\n",
              "          dataTable['output_type'] = 'display_data';\n",
              "          await google.colab.output.renderOutput(dataTable, element);\n",
              "          const docLink = document.createElement('div');\n",
              "          docLink.innerHTML = docLinkHtml;\n",
              "          element.appendChild(docLink);\n",
              "        }\n",
              "      </script>\n",
              "    </div>\n",
              "  </div>\n",
              "  "
            ]
          },
          "metadata": {},
          "execution_count": 39
        }
      ]
    },
    {
      "cell_type": "markdown",
      "source": [
        "แบ่งชุดข้อมูลเป็นข้อมูล test และข้อมูล train"
      ],
      "metadata": {
        "id": "Ufew780MnTXq"
      }
    },
    {
      "cell_type": "code",
      "source": [
        "from sklearn.model_selection import train_test_split\n",
        "from sklearn.neighbors import KNeighborsClassifier\n",
        "from sklearn.preprocessing import StandardScaler # ปรับช่วงข้อมูลด้วยวิธี standardization\n",
        "test_size=0.6\n",
        "X_train, X_test, y_train, y_test = train_test_split(\n",
        "    df[['mag1', 'mag2', 'mag3', 'mag4', 'mag5', 'mag6', 'mag7', 'mag8',\n",
        "       'mag9', 'mag10', 'mag11', 'mag14', 'mag15', 'mag16',\n",
        "       'mag17', 'mag18', 'mag19', 'mag20', 'mag21', 'mag22', 'mag23', 'mag24',\n",
        "       'mag25', 'mag26', 'mag27', 'mag28', 'mag29', 'mag30', 'mag31', 'mag32',\n",
        "       'mag33', 'mag34', 'mag35', 'mag36', 'mag37', 'mag38', 'mag39', 'mag40',\n",
        "       'mag41', 'mag42', 'mag43', 'mag44', 'mag45', 'mag46', 'mag47', 'mag48',\n",
        "       'mag49', 'mag50', 'mag51', 'mag52']], \n",
        "    df.Zone, \n",
        "    test_size=test_size, random_state=7)"
      ],
      "metadata": {
        "id": "wqR97jnAijzq"
      },
      "execution_count": 48,
      "outputs": []
    },
    {
      "cell_type": "markdown",
      "source": [
        "สร้างแบบจำลอง K-Nearest Neighbours"
      ],
      "metadata": {
        "id": "Q0DCSTTCnm5j"
      }
    },
    {
      "cell_type": "code",
      "source": [
        "prefer_k = 12\n",
        "model = KNeighborsClassifier(n_neighbors=prefer_k)\n",
        "model\n",
        "\n",
        "model.fit(X_train, y_train)"
      ],
      "metadata": {
        "colab": {
          "base_uri": "https://localhost:8080/"
        },
        "id": "S3LNZk-dipM9",
        "outputId": "6a7309b4-14ea-452f-94ef-119bd74db2a6"
      },
      "execution_count": 49,
      "outputs": [
        {
          "output_type": "execute_result",
          "data": {
            "text/plain": [
              "KNeighborsClassifier(n_neighbors=12)"
            ]
          },
          "metadata": {},
          "execution_count": 49
        }
      ]
    },
    {
      "cell_type": "code",
      "source": [
        "from sklearn.model_selection import cross_val_score \n",
        "scores = cross_val_score(model, X_train, y_train, cv=5, scoring='accuracy')\n",
        "scores"
      ],
      "metadata": {
        "colab": {
          "base_uri": "https://localhost:8080/"
        },
        "id": "-MzfVneLisx0",
        "outputId": "cf8f613d-93ac-4fe7-9809-4523b585107c"
      },
      "execution_count": 50,
      "outputs": [
        {
          "output_type": "execute_result",
          "data": {
            "text/plain": [
              "array([0.72397476, 0.75709779, 0.7318612 , 0.71879937, 0.74407583])"
            ]
          },
          "metadata": {},
          "execution_count": 50
        }
      ]
    },
    {
      "cell_type": "markdown",
      "source": [
        "ดูค่า Accuracy"
      ],
      "metadata": {
        "id": "0b_9D8MQn_Ya"
      }
    },
    {
      "cell_type": "code",
      "source": [
        "from numpy import mean, std\n",
        "print('Accuracy: %.3f (%.3f)' % (mean(scores), std(scores)))"
      ],
      "metadata": {
        "colab": {
          "base_uri": "https://localhost:8080/"
        },
        "id": "5bvocUs1Yzbm",
        "outputId": "97bd817a-1903-40be-c718-52b60676eac7"
      },
      "execution_count": 51,
      "outputs": [
        {
          "output_type": "stream",
          "name": "stdout",
          "text": [
            "Accuracy: 0.735 (0.014)\n"
          ]
        }
      ]
    },
    {
      "cell_type": "markdown",
      "source": [
        "**วิธีเลือกค่า K**"
      ],
      "metadata": {
        "id": "WE1XQvqSixKq"
      }
    },
    {
      "cell_type": "markdown",
      "source": [
        "ทุกตัว"
      ],
      "metadata": {
        "id": "x_Hp3hA6YCY7"
      }
    },
    {
      "cell_type": "code",
      "source": [
        "k_list = list(range(1,25+1))\n",
        "k_values = dict(n_neighbors=k_list)\n",
        "from sklearn.model_selection import GridSearchCV\n",
        "grid = GridSearchCV(model, k_values, cv=5, scoring='accuracy')\n",
        "grid.fit(df[[ 'mag1', 'mag2', 'mag3', 'mag4', 'mag5', 'mag6', 'mag7', 'mag8',\n",
        "       'mag9', 'mag10', 'mag11', 'mag12', 'mag13', 'mag14', 'mag15', 'mag16',\n",
        "       'mag17', 'mag18', 'mag19', 'mag20', 'mag21', 'mag22', 'mag23', 'mag24',\n",
        "       'mag25', 'mag26', 'mag27', 'mag28', 'mag29', 'mag30', 'mag31', 'mag32',\n",
        "       'mag33', 'mag34', 'mag35', 'mag36', 'mag37', 'mag38', 'mag39', 'mag40',\n",
        "       'mag41', 'mag42', 'mag43', 'mag44', 'mag45', 'mag46', 'mag47', 'mag48',\n",
        "       'mag49', 'mag50', 'mag51', 'mag52']], df.Zone)\n",
        "grid.cv_results_\n",
        "grid_table = pd.DataFrame(grid.cv_results_)\n",
        "grid_table.head()\n",
        "graphic = grid.cv_results_['mean_test_score']\n",
        "graphic\n",
        "\n",
        "plt.figure(figsize=(10,5))\n",
        "plt.plot(k_list,graphic,color='orange',linestyle='dashed',marker='o')\n",
        "plt.xlabel('K Number of Neighbors', fontdict={'fontsize': 15})\n",
        "plt.ylabel('Accuracy', fontdict={'fontsize': 15})\n",
        "plt.title('K NUMBER X ACCURACY', fontdict={'fontsize': 50})\n",
        "plt.xticks(range(0,30,3),)\n",
        "plt.show()\n",
        "print(\"The best value of k = {} with {} of accuracy.\".format(grid.best_params_,grid.best_score_))"
      ],
      "metadata": {
        "colab": {
          "base_uri": "https://localhost:8080/",
          "height": 405
        },
        "id": "jIJkyqiqY0Sw",
        "outputId": "aef56332-6a60-4b89-88f7-35c3898c2f5e"
      },
      "execution_count": 52,
      "outputs": [
        {
          "output_type": "display_data",
          "data": {
            "text/plain": [
              "<Figure size 720x360 with 1 Axes>"
            ],
            "image/png": "[encoded data removed]"
          },
          "metadata": {
            "needs_background": "light"
          }
        },
        {
          "output_type": "stream",
          "name": "stdout",
          "text": [
            "The best value of k = {'n_neighbors': 12} with 0.7090284548959629 of accuracy.\n"
          ]
        }
      ]
    },
    {
      "cell_type": "markdown",
      "source": [
        "เลือกบางตัว"
      ],
      "metadata": {
        "id": "OLt_GhFkYFFF"
      }
    },
    {
      "cell_type": "code",
      "source": [
        "k_list = list(range(1,25+1))\n",
        "k_values = dict(n_neighbors=k_list)\n",
        "from sklearn.model_selection import GridSearchCV\n",
        "grid = GridSearchCV(model, k_values, cv=5, scoring='accuracy')\n",
        "grid.fit(df[[ 'mag1', 'mag2', 'mag3', 'mag4', 'mag5', 'mag6', 'mag7', 'mag8',\n",
        "       'mag9', 'mag10', 'mag11', 'mag14', 'mag15', 'mag16',\n",
        "       'mag17', 'mag18', 'mag19', 'mag20', 'mag21', 'mag22', 'mag23', 'mag24',\n",
        "       'mag25', 'mag26', 'mag27', 'mag28', 'mag29', 'mag30', 'mag31', 'mag32',\n",
        "       'mag33', 'mag34', 'mag35', 'mag36', 'mag37', 'mag38', 'mag39', 'mag40',\n",
        "       'mag41', 'mag42', 'mag43', 'mag44', 'mag45', 'mag46', 'mag47', 'mag48',\n",
        "       'mag49', 'mag50', 'mag51', 'mag52']], df.Zone)\n",
        "grid.cv_results_\n",
        "grid_table = pd.DataFrame(grid.cv_results_)\n",
        "grid_table.head()\n",
        "graphic = grid.cv_results_['mean_test_score']\n",
        "graphic\n",
        "\n",
        "plt.figure(figsize=(10,5))\n",
        "plt.plot(k_list,graphic,color='orange',linestyle='dashed',marker='o')\n",
        "plt.xlabel('K Number of Neighbors', fontdict={'fontsize': 15})\n",
        "plt.ylabel('Accuracy', fontdict={'fontsize': 15})\n",
        "plt.title('K NUMBER X ACCURACY', fontdict={'fontsize': 50})\n",
        "plt.xticks(range(0,30,3),)\n",
        "plt.show()\n",
        "print(\"The best value of k = {} with {} of accuracy.\".format(grid.best_params_,grid.best_score_))"
      ],
      "metadata": {
        "colab": {
          "base_uri": "https://localhost:8080/",
          "height": 405
        },
        "id": "wbPNEK1gXh7Y",
        "outputId": "edbf6f63-61f7-4321-8a46-fd5d2a2879b7"
      },
      "execution_count": 33,
      "outputs": [
        {
          "output_type": "display_data",
          "data": {
            "text/plain": [
              "<Figure size 720x360 with 1 Axes>"
            ],
            "image/png": "[encoded data removed]"
          },
          "metadata": {
            "needs_background": "light"
          }
        },
        {
          "output_type": "stream",
          "name": "stdout",
          "text": [
            "The best value of k = {'n_neighbors': 18} with 0.7075132237198484 of accuracy.\n"
          ]
        }
      ]
    }
  ]
}