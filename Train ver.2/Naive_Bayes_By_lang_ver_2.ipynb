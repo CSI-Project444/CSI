{
  "nbformat": 4,
  "nbformat_minor": 0,
  "metadata": {
    "colab": {
      "provenance": []
    },
    "kernelspec": {
      "name": "python3",
      "display_name": "Python 3"
    },
    "language_info": {
      "name": "python"
    }
  },
  "cells": [
    {
      "cell_type": "markdown",
      "metadata": {
        "id": "nyHxIfkMZ5hY"
      },
      "source": [
        "Chapter 6 Naive Bayes\n",
        "\n",
        "reference : https://scikit-learn.org/stable/modules/generated/sklearn.naive_bayes.GaussianNB.html?highlight=gaussiannb#sklearn.naive_bayes.GaussianNB"
      ]
    },
    {
      "cell_type": "code",
      "metadata": {
        "id": "ZjFUJBBCEJn9"
      },
      "source": [
        "import numpy as np\n",
        "import pandas as pd\n",
        "import matplotlib.pyplot as plt\n",
        "from sklearn.datasets import make_blobs\n",
        "from sklearn.model_selection import train_test_split\n",
        "from sklearn.naive_bayes import GaussianNB"
      ],
      "execution_count": null,
      "outputs": []
    },
    {
      "cell_type": "markdown",
      "metadata": {
        "id": "kPagm3vRE6vf"
      },
      "source": [
        "**สร้างแบบจำลองการเรียนรู้โดยใช้วิธี Naive Bayes Classifier**"
      ]
    },
    {
      "cell_type": "code",
      "metadata": {
        "id": "srAzTQymFtsL"
      },
      "source": [
        "test_size=.6"
      ],
      "execution_count": null,
      "outputs": []
    },
    {
      "cell_type": "markdown",
      "metadata": {
        "id": "VgD9vlLE16Nn"
      },
      "source": [
        "ทดสอบประสิทธิภาพแบบจำลองด้วย cross validation"
      ]
    },
    {
      "cell_type": "code",
      "metadata": {
        "id": "__eGUxG01_jY"
      },
      "source": [
        "from sklearn.model_selection import cross_val_score"
      ],
      "execution_count": null,
      "outputs": []
    },
    {
      "cell_type": "markdown",
      "metadata": {
        "id": "HKRNWA3wJ48v"
      },
      "source": [
        "**ตัวอย่างการใช้ Naive Bayes Classifer เเยกประเภทข้อมูลโดยใช้หลายคุณลักษณะ**"
      ]
    },
    {
      "cell_type": "code",
      "metadata": {
        "colab": {
          "base_uri": "https://localhost:8080/",
          "height": 299
        },
        "id": "eOmpnTruK8eR",
        "outputId": "bb388ff0-1231-4bc7-daa0-6ab02d73f03c"
      },
      "source": [
        "df = pd.read_csv('https://raw.githubusercontent.com/CSI-Project444/CSI/main/Data/final02.csv')\n",
        "df.head()"
      ],
      "execution_count": null,
      "outputs": [
        {
          "output_type": "execute_result",
          "data": {
            "text/plain": [
              "   Zone       mag1       mag2       mag3       mag4       mag5       mag6  \\\n",
              "0     1  11.401754  12.369317  11.704700  12.649111  12.369317  12.369317   \n",
              "1     1  11.704700  12.083046  12.083046  12.083046  12.083046  12.083046   \n",
              "2     1  13.038405  12.206556  13.038405  13.038405  13.038405  13.038405   \n",
              "3     1  13.892444  13.416408  13.416408  13.416408  13.416408  12.529964   \n",
              "4     1  13.000000  13.000000  12.083046  13.000000  13.000000  12.083046   \n",
              "\n",
              "        mag7       mag8       mag9  ...      mag43      mag44      mag45  \\\n",
              "0  12.649111  12.649111  12.649111  ...  10.295630  10.295630  10.295630   \n",
              "1  12.083046  12.083046  12.083046  ...   9.433981   9.433981   8.944272   \n",
              "2  13.038405  12.206556  13.038405  ...   9.219544   8.602325   8.602325   \n",
              "3  13.416408  12.529964  12.529964  ...   8.944272   7.615773   8.062258   \n",
              "4  12.083046  12.083046  12.083046  ...   7.211103   7.211103   7.615773   \n",
              "\n",
              "      mag46     mag47     mag48     mag49     mag50      mag51     mag52  \n",
              "0  9.848858  9.848858  9.848858  9.486833  9.486833  10.198039  9.055385  \n",
              "1  8.944272  8.544004  8.544004  8.544004  9.219544   9.219544  8.062258  \n",
              "2  8.602325  8.062258  8.062258  8.062258  7.615773   8.544004  7.280110  \n",
              "3  8.062258  8.602325  8.602325  7.810250  7.810250   7.810250  7.071068  \n",
              "4  7.615773  7.615773  7.280110  7.280110  7.280110   7.071068  7.071068  \n",
              "\n",
              "[5 rows x 53 columns]"
            ],
            "text/html": [
              "\n",
              "  <div id=\"df-12bb4be0-ab65-4c27-bf07-07d9f3e8f832\">\n",
              "    <div class=\"colab-df-container\">\n",
              "      <div>\n",
              "<style scoped>\n",
              "    .dataframe tbody tr th:only-of-type {\n",
              "        vertical-align: middle;\n",
              "    }\n",
              "\n",
              "    .dataframe tbody tr th {\n",
              "        vertical-align: top;\n",
              "    }\n",
              "\n",
              "    .dataframe thead th {\n",
              "        text-align: right;\n",
              "    }\n",
              "</style>\n",
              "<table border=\"1\" class=\"dataframe\">\n",
              "  <thead>\n",
              "    <tr style=\"text-align: right;\">\n",
              "      <th></th>\n",
              "      <th>Zone</th>\n",
              "      <th>mag1</th>\n",
              "      <th>mag2</th>\n",
              "      <th>mag3</th>\n",
              "      <th>mag4</th>\n",
              "      <th>mag5</th>\n",
              "      <th>mag6</th>\n",
              "      <th>mag7</th>\n",
              "      <th>mag8</th>\n",
              "      <th>mag9</th>\n",
              "      <th>...</th>\n",
              "      <th>mag43</th>\n",
              "      <th>mag44</th>\n",
              "      <th>mag45</th>\n",
              "      <th>mag46</th>\n",
              "      <th>mag47</th>\n",
              "      <th>mag48</th>\n",
              "      <th>mag49</th>\n",
              "      <th>mag50</th>\n",
              "      <th>mag51</th>\n",
              "      <th>mag52</th>\n",
              "    </tr>\n",
              "  </thead>\n",
              "  <tbody>\n",
              "    <tr>\n",
              "      <th>0</th>\n",
              "      <td>1</td>\n",
              "      <td>11.401754</td>\n",
              "      <td>12.369317</td>\n",
              "      <td>11.704700</td>\n",
              "      <td>12.649111</td>\n",
              "      <td>12.369317</td>\n",
              "      <td>12.369317</td>\n",
              "      <td>12.649111</td>\n",
              "      <td>12.649111</td>\n",
              "      <td>12.649111</td>\n",
              "      <td>...</td>\n",
              "      <td>10.295630</td>\n",
              "      <td>10.295630</td>\n",
              "      <td>10.295630</td>\n",
              "      <td>9.848858</td>\n",
              "      <td>9.848858</td>\n",
              "      <td>9.848858</td>\n",
              "      <td>9.486833</td>\n",
              "      <td>9.486833</td>\n",
              "      <td>10.198039</td>\n",
              "      <td>9.055385</td>\n",
              "    </tr>\n",
              "    <tr>\n",
              "      <th>1</th>\n",
              "      <td>1</td>\n",
              "      <td>11.704700</td>\n",
              "      <td>12.083046</td>\n",
              "      <td>12.083046</td>\n",
              "      <td>12.083046</td>\n",
              "      <td>12.083046</td>\n",
              "      <td>12.083046</td>\n",
              "      <td>12.083046</td>\n",
              "      <td>12.083046</td>\n",
              "      <td>12.083046</td>\n",
              "      <td>...</td>\n",
              "      <td>9.433981</td>\n",
              "      <td>9.433981</td>\n",
              "      <td>8.944272</td>\n",
              "      <td>8.944272</td>\n",
              "      <td>8.544004</td>\n",
              "      <td>8.544004</td>\n",
              "      <td>8.544004</td>\n",
              "      <td>9.219544</td>\n",
              "      <td>9.219544</td>\n",
              "      <td>8.062258</td>\n",
              "    </tr>\n",
              "    <tr>\n",
              "      <th>2</th>\n",
              "      <td>1</td>\n",
              "      <td>13.038405</td>\n",
              "      <td>12.206556</td>\n",
              "      <td>13.038405</td>\n",
              "      <td>13.038405</td>\n",
              "      <td>13.038405</td>\n",
              "      <td>13.038405</td>\n",
              "      <td>13.038405</td>\n",
              "      <td>12.206556</td>\n",
              "      <td>13.038405</td>\n",
              "      <td>...</td>\n",
              "      <td>9.219544</td>\n",
              "      <td>8.602325</td>\n",
              "      <td>8.602325</td>\n",
              "      <td>8.602325</td>\n",
              "      <td>8.062258</td>\n",
              "      <td>8.062258</td>\n",
              "      <td>8.062258</td>\n",
              "      <td>7.615773</td>\n",
              "      <td>8.544004</td>\n",
              "      <td>7.280110</td>\n",
              "    </tr>\n",
              "    <tr>\n",
              "      <th>3</th>\n",
              "      <td>1</td>\n",
              "      <td>13.892444</td>\n",
              "      <td>13.416408</td>\n",
              "      <td>13.416408</td>\n",
              "      <td>13.416408</td>\n",
              "      <td>13.416408</td>\n",
              "      <td>12.529964</td>\n",
              "      <td>13.416408</td>\n",
              "      <td>12.529964</td>\n",
              "      <td>12.529964</td>\n",
              "      <td>...</td>\n",
              "      <td>8.944272</td>\n",
              "      <td>7.615773</td>\n",
              "      <td>8.062258</td>\n",
              "      <td>8.062258</td>\n",
              "      <td>8.602325</td>\n",
              "      <td>8.602325</td>\n",
              "      <td>7.810250</td>\n",
              "      <td>7.810250</td>\n",
              "      <td>7.810250</td>\n",
              "      <td>7.071068</td>\n",
              "    </tr>\n",
              "    <tr>\n",
              "      <th>4</th>\n",
              "      <td>1</td>\n",
              "      <td>13.000000</td>\n",
              "      <td>13.000000</td>\n",
              "      <td>12.083046</td>\n",
              "      <td>13.000000</td>\n",
              "      <td>13.000000</td>\n",
              "      <td>12.083046</td>\n",
              "      <td>12.083046</td>\n",
              "      <td>12.083046</td>\n",
              "      <td>12.083046</td>\n",
              "      <td>...</td>\n",
              "      <td>7.211103</td>\n",
              "      <td>7.211103</td>\n",
              "      <td>7.615773</td>\n",
              "      <td>7.615773</td>\n",
              "      <td>7.615773</td>\n",
              "      <td>7.280110</td>\n",
              "      <td>7.280110</td>\n",
              "      <td>7.280110</td>\n",
              "      <td>7.071068</td>\n",
              "      <td>7.071068</td>\n",
              "    </tr>\n",
              "  </tbody>\n",
              "</table>\n",
              "<p>5 rows × 53 columns</p>\n",
              "</div>\n",
              "      <button class=\"colab-df-convert\" onclick=\"convertToInteractive('df-12bb4be0-ab65-4c27-bf07-07d9f3e8f832')\"\n",
              "              title=\"Convert this dataframe to an interactive table.\"\n",
              "              style=\"display:none;\">\n",
              "        \n",
              "  <svg xmlns=\"http://www.w3.org/2000/svg\" height=\"24px\"viewBox=\"0 0 24 24\"\n",
              "       width=\"24px\">\n",
              "    <path d=\"M0 0h24v24H0V0z\" fill=\"none\"/>\n",
              "    <path d=\"M18.56 5.44l.94 2.06.94-2.06 2.06-.94-2.06-.94-.94-2.06-.94 2.06-2.06.94zm-11 1L8.5 8.5l.94-2.06 2.06-.94-2.06-.94L8.5 2.5l-.94 2.06-2.06.94zm10 10l.94 2.06.94-2.06 2.06-.94-2.06-.94-.94-2.06-.94 2.06-2.06.94z\"/><path d=\"M17.41 7.96l-1.37-1.37c-.4-.4-.92-.59-1.43-.59-.52 0-1.04.2-1.43.59L10.3 9.45l-7.72 7.72c-.78.78-.78 2.05 0 2.83L4 21.41c.39.39.9.59 1.41.59.51 0 1.02-.2 1.41-.59l7.78-7.78 2.81-2.81c.8-.78.8-2.07 0-2.86zM5.41 20L4 18.59l7.72-7.72 1.47 1.35L5.41 20z\"/>\n",
              "  </svg>\n",
              "      </button>\n",
              "      \n",
              "  <style>\n",
              "    .colab-df-container {\n",
              "      display:flex;\n",
              "      flex-wrap:wrap;\n",
              "      gap: 12px;\n",
              "    }\n",
              "\n",
              "    .colab-df-convert {\n",
              "      background-color: #E8F0FE;\n",
              "      border: none;\n",
              "      border-radius: 50%;\n",
              "      cursor: pointer;\n",
              "      display: none;\n",
              "      fill: #1967D2;\n",
              "      height: 32px;\n",
              "      padding: 0 0 0 0;\n",
              "      width: 32px;\n",
              "    }\n",
              "\n",
              "    .colab-df-convert:hover {\n",
              "      background-color: #E2EBFA;\n",
              "      box-shadow: 0px 1px 2px rgba(60, 64, 67, 0.3), 0px 1px 3px 1px rgba(60, 64, 67, 0.15);\n",
              "      fill: #174EA6;\n",
              "    }\n",
              "\n",
              "    [theme=dark] .colab-df-convert {\n",
              "      background-color: #3B4455;\n",
              "      fill: #D2E3FC;\n",
              "    }\n",
              "\n",
              "    [theme=dark] .colab-df-convert:hover {\n",
              "      background-color: #434B5C;\n",
              "      box-shadow: 0px 1px 3px 1px rgba(0, 0, 0, 0.15);\n",
              "      filter: drop-shadow(0px 1px 2px rgba(0, 0, 0, 0.3));\n",
              "      fill: #FFFFFF;\n",
              "    }\n",
              "  </style>\n",
              "\n",
              "      <script>\n",
              "        const buttonEl =\n",
              "          document.querySelector('#df-12bb4be0-ab65-4c27-bf07-07d9f3e8f832 button.colab-df-convert');\n",
              "        buttonEl.style.display =\n",
              "          google.colab.kernel.accessAllowed ? 'block' : 'none';\n",
              "\n",
              "        async function convertToInteractive(key) {\n",
              "          const element = document.querySelector('#df-12bb4be0-ab65-4c27-bf07-07d9f3e8f832');\n",
              "          const dataTable =\n",
              "            await google.colab.kernel.invokeFunction('convertToInteractive',\n",
              "                                                     [key], {});\n",
              "          if (!dataTable) return;\n",
              "\n",
              "          const docLinkHtml = 'Like what you see? Visit the ' +\n",
              "            '<a target=\"_blank\" href=https://colab.research.google.com/notebooks/data_table.ipynb>data table notebook</a>'\n",
              "            + ' to learn more about interactive tables.';\n",
              "          element.innerHTML = '';\n",
              "          dataTable['output_type'] = 'display_data';\n",
              "          await google.colab.output.renderOutput(dataTable, element);\n",
              "          const docLink = document.createElement('div');\n",
              "          docLink.innerHTML = docLinkHtml;\n",
              "          element.appendChild(docLink);\n",
              "        }\n",
              "      </script>\n",
              "    </div>\n",
              "  </div>\n",
              "  "
            ]
          },
          "metadata": {},
          "execution_count": 44
        }
      ]
    },
    {
      "cell_type": "markdown",
      "metadata": {
        "id": "3Qqlz8RJLMwa"
      },
      "source": [
        "เเบ่งข้อมูลสำหรับเรียนรู้เเละทดสอบ โดย"
      ]
    },
    {
      "cell_type": "code",
      "metadata": {
        "id": "6HhmHfLkLVkH"
      },
      "source": [
        "X_train, X_test, y_train, y_test = train_test_split(\n",
        "    df[['mag1', 'mag2', 'mag3', 'mag4', 'mag5', 'mag6', 'mag7', 'mag8',\n",
        "       'mag9', 'mag10', 'mag11', 'mag12', 'mag13', 'mag14', 'mag15', 'mag16',\n",
        "       'mag17', 'mag18', 'mag19', 'mag20', 'mag21', 'mag22', 'mag23', 'mag24',\n",
        "       'mag25', 'mag26', 'mag27', 'mag28', 'mag29', 'mag30', 'mag31', 'mag32',\n",
        "       'mag33', 'mag34', 'mag35', 'mag36', 'mag37', 'mag38', 'mag39', 'mag40',\n",
        "       'mag41', 'mag42', 'mag43', 'mag44', 'mag45', 'mag46', 'mag47', 'mag48',\n",
        "       'mag49', 'mag50', 'mag51', 'mag52']], \n",
        "    df[['Zone']], \n",
        "    test_size=test_size, random_state=8)"
      ],
      "execution_count": null,
      "outputs": []
    },
    {
      "cell_type": "markdown",
      "metadata": {
        "id": "vvTUd41XLn68"
      },
      "source": [
        "สร้างแบบจำลอง"
      ]
    },
    {
      "cell_type": "code",
      "metadata": {
        "colab": {
          "base_uri": "https://localhost:8080/"
        },
        "id": "CwbhCtjsLkKU",
        "outputId": "33ac2eed-54dd-46a6-de09-bbe306d87ccd"
      },
      "source": [
        "model.fit(X_train, y_train) "
      ],
      "execution_count": null,
      "outputs": [
        {
          "output_type": "stream",
          "name": "stderr",
          "text": [
            "/usr/local/lib/python3.8/dist-packages/sklearn/utils/validation.py:993: DataConversionWarning: A column-vector y was passed when a 1d array was expected. Please change the shape of y to (n_samples, ), for example using ravel().\n",
            "  y = column_or_1d(y, warn=True)\n"
          ]
        },
        {
          "output_type": "execute_result",
          "data": {
            "text/plain": [
              "GaussianNB()"
            ]
          },
          "metadata": {},
          "execution_count": 46
        }
      ]
    },
    {
      "cell_type": "markdown",
      "metadata": {
        "id": "aqEfegG0MMDp"
      },
      "source": [
        "ทดสอบประสิทธิภาพแบบจำลองด้วย cross validation"
      ]
    },
    {
      "cell_type": "code",
      "metadata": {
        "colab": {
          "base_uri": "https://localhost:8080/"
        },
        "id": "qwMPq1OKMK41",
        "outputId": "4106ddb8-6673-436a-96ca-07af63fcc46f"
      },
      "source": [
        "scores = cross_val_score(model, X_train, y_train, cv=5, scoring='accuracy')\n",
        "print('Accuracy: %.3f (%.3f)' % (np.mean(scores), np.std(scores)))"
      ],
      "execution_count": null,
      "outputs": [
        {
          "output_type": "stream",
          "name": "stdout",
          "text": [
            "Accuracy: 0.662 (0.010)\n"
          ]
        },
        {
          "output_type": "stream",
          "name": "stderr",
          "text": [
            "/usr/local/lib/python3.8/dist-packages/sklearn/utils/validation.py:993: DataConversionWarning: A column-vector y was passed when a 1d array was expected. Please change the shape of y to (n_samples, ), for example using ravel().\n",
            "  y = column_or_1d(y, warn=True)\n",
            "/usr/local/lib/python3.8/dist-packages/sklearn/utils/validation.py:993: DataConversionWarning: A column-vector y was passed when a 1d array was expected. Please change the shape of y to (n_samples, ), for example using ravel().\n",
            "  y = column_or_1d(y, warn=True)\n",
            "/usr/local/lib/python3.8/dist-packages/sklearn/utils/validation.py:993: DataConversionWarning: A column-vector y was passed when a 1d array was expected. Please change the shape of y to (n_samples, ), for example using ravel().\n",
            "  y = column_or_1d(y, warn=True)\n",
            "/usr/local/lib/python3.8/dist-packages/sklearn/utils/validation.py:993: DataConversionWarning: A column-vector y was passed when a 1d array was expected. Please change the shape of y to (n_samples, ), for example using ravel().\n",
            "  y = column_or_1d(y, warn=True)\n",
            "/usr/local/lib/python3.8/dist-packages/sklearn/utils/validation.py:993: DataConversionWarning: A column-vector y was passed when a 1d array was expected. Please change the shape of y to (n_samples, ), for example using ravel().\n",
            "  y = column_or_1d(y, warn=True)\n"
          ]
        }
      ]
    },
    {
      "cell_type": "markdown",
      "metadata": {
        "id": "1L-DhvX6MZjh"
      },
      "source": [
        "ทดสอบทำนายผล"
      ]
    },
    {
      "cell_type": "code",
      "metadata": {
        "id": "SUZrv5wGMYoE",
        "colab": {
          "base_uri": "https://localhost:8080/",
          "height": 423
        },
        "outputId": "60aad16a-b113-4baa-d77f-c46fc5e6a72c"
      },
      "source": [
        "predicted = model.predict(X_test)\n",
        "y_test"
      ],
      "execution_count": null,
      "outputs": [
        {
          "output_type": "execute_result",
          "data": {
            "text/plain": [
              "      Zone\n",
              "7333     4\n",
              "3716     2\n",
              "5380     3\n",
              "3461     2\n",
              "6455     4\n",
              "...    ...\n",
              "343      1\n",
              "1262     1\n",
              "7622     4\n",
              "4355     3\n",
              "1271     1\n",
              "\n",
              "[4754 rows x 1 columns]"
            ],
            "text/html": [
              "\n",
              "  <div id=\"df-34e87d45-148f-4916-abfe-576f2b1d6996\">\n",
              "    <div class=\"colab-df-container\">\n",
              "      <div>\n",
              "<style scoped>\n",
              "    .dataframe tbody tr th:only-of-type {\n",
              "        vertical-align: middle;\n",
              "    }\n",
              "\n",
              "    .dataframe tbody tr th {\n",
              "        vertical-align: top;\n",
              "    }\n",
              "\n",
              "    .dataframe thead th {\n",
              "        text-align: right;\n",
              "    }\n",
              "</style>\n",
              "<table border=\"1\" class=\"dataframe\">\n",
              "  <thead>\n",
              "    <tr style=\"text-align: right;\">\n",
              "      <th></th>\n",
              "      <th>Zone</th>\n",
              "    </tr>\n",
              "  </thead>\n",
              "  <tbody>\n",
              "    <tr>\n",
              "      <th>7333</th>\n",
              "      <td>4</td>\n",
              "    </tr>\n",
              "    <tr>\n",
              "      <th>3716</th>\n",
              "      <td>2</td>\n",
              "    </tr>\n",
              "    <tr>\n",
              "      <th>5380</th>\n",
              "      <td>3</td>\n",
              "    </tr>\n",
              "    <tr>\n",
              "      <th>3461</th>\n",
              "      <td>2</td>\n",
              "    </tr>\n",
              "    <tr>\n",
              "      <th>6455</th>\n",
              "      <td>4</td>\n",
              "    </tr>\n",
              "    <tr>\n",
              "      <th>...</th>\n",
              "      <td>...</td>\n",
              "    </tr>\n",
              "    <tr>\n",
              "      <th>343</th>\n",
              "      <td>1</td>\n",
              "    </tr>\n",
              "    <tr>\n",
              "      <th>1262</th>\n",
              "      <td>1</td>\n",
              "    </tr>\n",
              "    <tr>\n",
              "      <th>7622</th>\n",
              "      <td>4</td>\n",
              "    </tr>\n",
              "    <tr>\n",
              "      <th>4355</th>\n",
              "      <td>3</td>\n",
              "    </tr>\n",
              "    <tr>\n",
              "      <th>1271</th>\n",
              "      <td>1</td>\n",
              "    </tr>\n",
              "  </tbody>\n",
              "</table>\n",
              "<p>4754 rows × 1 columns</p>\n",
              "</div>\n",
              "      <button class=\"colab-df-convert\" onclick=\"convertToInteractive('df-34e87d45-148f-4916-abfe-576f2b1d6996')\"\n",
              "              title=\"Convert this dataframe to an interactive table.\"\n",
              "              style=\"display:none;\">\n",
              "        \n",
              "  <svg xmlns=\"http://www.w3.org/2000/svg\" height=\"24px\"viewBox=\"0 0 24 24\"\n",
              "       width=\"24px\">\n",
              "    <path d=\"M0 0h24v24H0V0z\" fill=\"none\"/>\n",
              "    <path d=\"M18.56 5.44l.94 2.06.94-2.06 2.06-.94-2.06-.94-.94-2.06-.94 2.06-2.06.94zm-11 1L8.5 8.5l.94-2.06 2.06-.94-2.06-.94L8.5 2.5l-.94 2.06-2.06.94zm10 10l.94 2.06.94-2.06 2.06-.94-2.06-.94-.94-2.06-.94 2.06-2.06.94z\"/><path d=\"M17.41 7.96l-1.37-1.37c-.4-.4-.92-.59-1.43-.59-.52 0-1.04.2-1.43.59L10.3 9.45l-7.72 7.72c-.78.78-.78 2.05 0 2.83L4 21.41c.39.39.9.59 1.41.59.51 0 1.02-.2 1.41-.59l7.78-7.78 2.81-2.81c.8-.78.8-2.07 0-2.86zM5.41 20L4 18.59l7.72-7.72 1.47 1.35L5.41 20z\"/>\n",
              "  </svg>\n",
              "      </button>\n",
              "      \n",
              "  <style>\n",
              "    .colab-df-container {\n",
              "      display:flex;\n",
              "      flex-wrap:wrap;\n",
              "      gap: 12px;\n",
              "    }\n",
              "\n",
              "    .colab-df-convert {\n",
              "      background-color: #E8F0FE;\n",
              "      border: none;\n",
              "      border-radius: 50%;\n",
              "      cursor: pointer;\n",
              "      display: none;\n",
              "      fill: #1967D2;\n",
              "      height: 32px;\n",
              "      padding: 0 0 0 0;\n",
              "      width: 32px;\n",
              "    }\n",
              "\n",
              "    .colab-df-convert:hover {\n",
              "      background-color: #E2EBFA;\n",
              "      box-shadow: 0px 1px 2px rgba(60, 64, 67, 0.3), 0px 1px 3px 1px rgba(60, 64, 67, 0.15);\n",
              "      fill: #174EA6;\n",
              "    }\n",
              "\n",
              "    [theme=dark] .colab-df-convert {\n",
              "      background-color: #3B4455;\n",
              "      fill: #D2E3FC;\n",
              "    }\n",
              "\n",
              "    [theme=dark] .colab-df-convert:hover {\n",
              "      background-color: #434B5C;\n",
              "      box-shadow: 0px 1px 3px 1px rgba(0, 0, 0, 0.15);\n",
              "      filter: drop-shadow(0px 1px 2px rgba(0, 0, 0, 0.3));\n",
              "      fill: #FFFFFF;\n",
              "    }\n",
              "  </style>\n",
              "\n",
              "      <script>\n",
              "        const buttonEl =\n",
              "          document.querySelector('#df-34e87d45-148f-4916-abfe-576f2b1d6996 button.colab-df-convert');\n",
              "        buttonEl.style.display =\n",
              "          google.colab.kernel.accessAllowed ? 'block' : 'none';\n",
              "\n",
              "        async function convertToInteractive(key) {\n",
              "          const element = document.querySelector('#df-34e87d45-148f-4916-abfe-576f2b1d6996');\n",
              "          const dataTable =\n",
              "            await google.colab.kernel.invokeFunction('convertToInteractive',\n",
              "                                                     [key], {});\n",
              "          if (!dataTable) return;\n",
              "\n",
              "          const docLinkHtml = 'Like what you see? Visit the ' +\n",
              "            '<a target=\"_blank\" href=https://colab.research.google.com/notebooks/data_table.ipynb>data table notebook</a>'\n",
              "            + ' to learn more about interactive tables.';\n",
              "          element.innerHTML = '';\n",
              "          dataTable['output_type'] = 'display_data';\n",
              "          await google.colab.output.renderOutput(dataTable, element);\n",
              "          const docLink = document.createElement('div');\n",
              "          docLink.innerHTML = docLinkHtml;\n",
              "          element.appendChild(docLink);\n",
              "        }\n",
              "      </script>\n",
              "    </div>\n",
              "  </div>\n",
              "  "
            ]
          },
          "metadata": {},
          "execution_count": 48
        }
      ]
    },
    {
      "cell_type": "code",
      "metadata": {
        "id": "T0pKiGnvNgwK",
        "colab": {
          "base_uri": "https://localhost:8080/"
        },
        "outputId": "ff2a0f76-35b8-46a2-adbf-e34eb5a81de3"
      },
      "source": [
        "predicted"
      ],
      "execution_count": null,
      "outputs": [
        {
          "output_type": "execute_result",
          "data": {
            "text/plain": [
              "array([4, 2, 3, ..., 4, 3, 3])"
            ]
          },
          "metadata": {},
          "execution_count": 49
        }
      ]
    },
    {
      "cell_type": "markdown",
      "metadata": {
        "id": "fXhorYJolDpL"
      },
      "source": [
        "แสดงประสิทธิภาพของเเบบจำลอง"
      ]
    },
    {
      "cell_type": "code",
      "metadata": {
        "colab": {
          "base_uri": "https://localhost:8080/"
        },
        "id": "br3mnGkJ_6-Y",
        "outputId": "3662543b-6bcc-4080-d8b4-34413970973c"
      },
      "source": [
        "from sklearn import metrics\n",
        "print(metrics.classification_report(y_test,predicted))"
      ],
      "execution_count": null,
      "outputs": [
        {
          "output_type": "stream",
          "name": "stdout",
          "text": [
            "              precision    recall  f1-score   support\n",
            "\n",
            "           1       0.76      0.55      0.64      1195\n",
            "           2       0.62      0.69      0.66      1224\n",
            "           3       0.64      0.81      0.71      1174\n",
            "           4       0.63      0.55      0.59      1161\n",
            "\n",
            "    accuracy                           0.65      4754\n",
            "   macro avg       0.66      0.65      0.65      4754\n",
            "weighted avg       0.66      0.65      0.65      4754\n",
            "\n"
          ]
        }
      ]
    }
  ]
}